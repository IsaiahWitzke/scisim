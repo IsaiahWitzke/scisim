{
 "cells": [
  {
   "cell_type": "code",
   "execution_count": 2,
   "metadata": {},
   "outputs": [],
   "source": [
    "import numpy as np"
   ]
  },
  {
   "cell_type": "code",
   "execution_count": 1,
   "metadata": {},
   "outputs": [],
   "source": [
    "def get_policy(Q, x, b, policy):\n",
    "    \"\"\"\n",
    "    updates policy to the next policy,\n",
    "    returns error\n",
    "    \"\"\"\n",
    "    err2 = 0\n",
    "    y = Q * x + b\n",
    "    for i in range(len(x)):\n",
    "        choice = 0.0\n",
    "        if y[i] < x[i]:\n",
    "            choice = 1\n",
    "        err2 += min(x[i], y[i]) ** 2\n",
    "        policy[i,i] = choice\n",
    "    return err2 ** 0.5\n",
    "\n",
    "def update_value(policy, Q, b, x):\n",
    "    \"\"\"\n",
    "    updates x to the next value given the policy\n",
    "    \"\"\"\n",
    "    I = np.eye(len(b))\n",
    "    x = np.linalg.solve(policy * Q * policy + I - policy, -policy * b)\n",
    "\n",
    "def flow(Q, N, v0, max_itrs = 100, m_tol = 1e-09, CoR = 1):\n",
    "    \"\"\"\n",
    "    does policy iteration\n",
    "    returns a bool/vector pair: (converged, x)\n",
    "    \"\"\"\n",
    "    b = N.T * (1 + CoR) * v0\n",
    "    x = np.zeros(b.shape[0])\n",
    "    policy = np.zeros((b.shape[0], b.shape[0]))\n",
    "    error = 0.0\n",
    "\n",
    "    for n_iter in range(max_itrs):\n",
    "        error = get_policy(Q, x, b, policy)\n",
    "\n",
    "        if error <= m_tol:\n",
    "            return (True, x)\n",
    "\n",
    "        update_value(policy, Q, b, x);\n",
    "    \n",
    "    return (False, x)"
   ]
  },
  {
   "cell_type": "code",
   "execution_count": null,
   "metadata": {},
   "outputs": [],
   "source": [
    "Q = np.array([\n",
    "    [1, ]\n",
    "])\n",
    "flow()"
   ]
  }
 ],
 "metadata": {
  "kernelspec": {
   "display_name": "Python 3.10.6 64-bit",
   "language": "python",
   "name": "python3"
  },
  "language_info": {
   "codemirror_mode": {
    "name": "ipython",
    "version": 3
   },
   "file_extension": ".py",
   "mimetype": "text/x-python",
   "name": "python",
   "nbconvert_exporter": "python",
   "pygments_lexer": "ipython3",
   "version": "3.10.6"
  },
  "orig_nbformat": 4,
  "vscode": {
   "interpreter": {
    "hash": "916dbcbb3f70747c44a77c7bcd40155683ae19c65e1c03b4aa3499c5328201f1"
   }
  }
 },
 "nbformat": 4,
 "nbformat_minor": 2
}
