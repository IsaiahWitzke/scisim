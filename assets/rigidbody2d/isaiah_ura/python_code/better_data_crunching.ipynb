{
 "cells": [
  {
   "cell_type": "code",
   "execution_count": 154,
   "metadata": {},
   "outputs": [],
   "source": [
    "import scipy\n",
    "import numpy as np\n",
    "import data_import\n",
    "import matplotlib.pyplot as plt"
   ]
  },
  {
   "cell_type": "code",
   "execution_count": 155,
   "metadata": {},
   "outputs": [],
   "source": [
    "\n",
    "def get_policy(Q, x, b, policy):\n",
    "    \"\"\"\n",
    "    updates policy to the next policy,\n",
    "    returns error\n",
    "    \"\"\"\n",
    "    err2 = 0\n",
    "    y = np.dot(Q, x) + b\n",
    "    for i in range(len(x)):\n",
    "        choice = 0.0\n",
    "        if y[i] < x[i]:\n",
    "            choice = 1\n",
    "        err2 += min(x[i], y[i]) ** 2    # x should be > 0, while y should be as close to 0 as possible\n",
    "\n",
    "        policy[i,i] = choice\n",
    "    flat_policy = [i for i in range(policy.shape[0]) if policy[i,i] == 1]\n",
    "    return err2 ** 0.5\n",
    "\n",
    "def update_value(policy, Q, b, use_cg = True):\n",
    "    \"\"\"\n",
    "    returns the next x given the policy\n",
    "    \"\"\"\n",
    "    I = np.eye(len(b))\n",
    "    A = np.dot(\n",
    "            np.dot(\n",
    "                policy,\n",
    "                Q\n",
    "            ),\n",
    "            policy\n",
    "        ) + I - policy\n",
    "    rhs = -np.dot(policy, b) \n",
    "    lst_sqr_soln = np.linalg.lstsq(A , rhs, 1e-12)[0]\n",
    "    cg_soln, cg_conv = scipy.sparse.linalg.cg(A , rhs , tol=1e-10\n",
    "        # , maxiter=len(rhs) * 1e10 # this is default... see https://github.com/scipy/scipy/blob/v1.9.3/scipy/sparse/linalg/_isolve/iterative.py#L298-L385\n",
    "    )\n",
    "    if cg_conv != 0:\n",
    "        print(\"CG DID NOT CONVERGE!\")\n",
    "    # print(\n",
    "    #     \"cg soln err:\",\n",
    "    #     np.linalg.norm(\n",
    "    #         np.dot(A, cg_soln) - rhs\n",
    "    #     )\n",
    "    # )\n",
    "    if use_cg:\n",
    "        return cg_soln\n",
    "    else:\n",
    "        return lst_sqr_soln\n",
    "\n",
    "\n",
    "def flow(Q, N, v0, max_itrs = 100, m_tol = 1e-09, CoR = 1):\n",
    "    \"\"\"\n",
    "    does policy iteration\n",
    "    returns a bool/vector pair: (converged, x)\n",
    "    \"\"\"\n",
    "    b = np.dot(N.T, (1 + CoR) * v0)\n",
    "    min_err = 1.0e10\n",
    "    min_err_x = np.zeros(b.shape[0])\n",
    "    x = np.zeros(b.shape[0])\n",
    "    policy = np.zeros((b.shape[0], b.shape[0]))\n",
    "    error = 0.0\n",
    "\n",
    "    previous_lambdas = []\n",
    "    cg_ls_diff = []\n",
    "    A_det = []\n",
    "    resid = []\n",
    "\n",
    "    for n_iter in range(max_itrs):\n",
    "        # print(\"n_iter: \", n_iter)\n",
    "        error = get_policy(Q, x, b, policy)\n",
    "        if error < min_err:\n",
    "            min_err = error\n",
    "            min_err_x = x.copy()\n",
    "        # print(error)\n",
    "\n",
    "        if error <= m_tol:\n",
    "            return (True, x, min_err, min_err_x, -1, cg_ls_diff, A_det, resid)\n",
    "\n",
    "        x_cg = update_value(policy, Q, b, True)\n",
    "        x_ls = update_value(policy, Q, b, False)\n",
    "\n",
    "        cg_ls_diff.append(np.linalg.norm(x_cg - x_ls))\n",
    "\n",
    "        A = np.dot( np.dot( policy, Q), policy) + np.eye(len(b)) - policy\n",
    "        rhs = -np.dot(policy, b) \n",
    "        A_det.append(np.linalg.det(A))\n",
    "\n",
    "        resid.append((\n",
    "            np.linalg.norm(np.dot(A, x_cg) - rhs),\n",
    "            np.linalg.norm(np.dot(A, x_ls) - rhs)\n",
    "        ))\n",
    "\n",
    "        x = x_ls.copy()\n",
    "\n",
    "        \n",
    "        if list(x) in previous_lambdas:\n",
    "            return (False , x, min_err, min_err_x, len(previous_lambdas) - previous_lambdas.index(list(x)), cg_ls_diff, A_det, resid)\n",
    "        \n",
    "        previous_lambdas.append(list(x.copy()))\n",
    "    \n",
    "    return (False , x, min_err, min_err_x, -1, cg_ls_diff, A_det, resid)  # shouldn't get here\n"
   ]
  },
  {
   "cell_type": "code",
   "execution_count": 156,
   "metadata": {},
   "outputs": [],
   "source": [
    "# pd_data = data_import.read_files_to_pd_dataframe(\n",
    "#     [f\"../outs/grid_v2/itr_{i}.xml.out\" for i in range(500)]\n",
    "# )\n",
    "pd_data = data_import.read_files_to_pd_dataframe(\n",
    "    [f\"../outs/grid/itr_{i}.xml.out\" for i in range(500)]\n",
    ")\n",
    "# pd_data = data_import.read_file_to_pd_dataframe(\"../simple_example.out\")\n",
    "# pd_data = data_import.read_file_to_pd_dataframe(\"../K4.out\")"
   ]
  },
  {
   "cell_type": "code",
   "execution_count": 157,
   "metadata": {},
   "outputs": [],
   "source": [
    "np.set_printoptions(linewidth=2000, precision=10)"
   ]
  },
  {
   "cell_type": "markdown",
   "metadata": {},
   "source": [
    "# ensure that cg solution yields least sqr soln (inner solver)"
   ]
  },
  {
   "cell_type": "code",
   "execution_count": 158,
   "metadata": {},
   "outputs": [
    {
     "name": "stdout",
     "output_type": "stream",
     "text": [
      "CG DID NOT CONVERGE!\n",
      "CG DID NOT CONVERGE!\n",
      "CG DID NOT CONVERGE!\n",
      "CG DID NOT CONVERGE!\n",
      "CG DID NOT CONVERGE!\n",
      "CG DID NOT CONVERGE!\n"
     ]
    }
   ],
   "source": [
    "cg_ls_diff_t = []\n",
    "A_det_t = []\n",
    "resid_t = []\n",
    "min_err_t = []\n",
    "cycle_size_t = []\n",
    "min_err_x_t = []\n",
    "for i in range(len(pd_data)):\n",
    "    Q = pd_data['Q'][i]\n",
    "    N = pd_data['N'][i]\n",
    "    v0= pd_data['v0'][i]\n",
    "    converged, x, min_err, min_err_x, cycle_size, cg_ls_diff, A_det, resid = flow(Q, N, v0)\n",
    "    min_err_x_t.append(min_err_x.copy())\n",
    "    cg_ls_diff_t += cg_ls_diff.copy()\n",
    "    A_det_t += A_det.copy()\n",
    "    resid_t += resid.copy()\n",
    "    min_err_t.append(min_err)\n",
    "    cycle_size_t.append(cycle_size)"
   ]
  },
  {
   "cell_type": "code",
   "execution_count": 159,
   "metadata": {},
   "outputs": [
    {
     "name": "stdout",
     "output_type": "stream",
     "text": [
      "5318\n",
      "5318\n",
      "5318\n"
     ]
    }
   ],
   "source": [
    "print(len(cg_ls_diff_t))\n",
    "print(len(A_det_t))\n",
    "print(len(resid_t))"
   ]
  },
  {
   "cell_type": "code",
   "execution_count": 160,
   "metadata": {},
   "outputs": [
    {
     "name": "stdout",
     "output_type": "stream",
     "text": [
      "ASKLJDDASLKJSDAJKLJKL 1158 0.5199058841262565 -3.0449074646393275e-87 426357.7229872154\n",
      "ASKLJDDASLKJSDAJKLJKL 4894 2.0766893572145443e-05 1.7655497112900267e-71 268.0459010596703\n",
      "845\n"
     ]
    }
   ],
   "source": [
    "diff_soln_counter = 0\n",
    "\n",
    "for i in range(len(A_det_t)):\n",
    "    # non singular.... ensure that both cg and lst sqrs soln is the same\n",
    "    if abs(A_det_t[i]) > 1e-06 and abs(cg_ls_diff_t[i]) > 1e-06:\n",
    "        print(\"AHHHHH \", i) # this never prints\n",
    "    \n",
    "    # singular.... ensure that cg and lst sqrs is different sometimes\n",
    "    if abs(A_det_t[i]) <= 1e-06 and abs(cg_ls_diff_t[i]) > 1e-06:\n",
    "        diff_soln_counter += 1\n",
    "\n",
    "    # does \"quality of lambda\" change if we are using cg vs ls?\n",
    "    if abs(resid_t[i][0] - resid_t[i][1]) > 1e-07:\n",
    "        print(\"ASKLJDDASLKJSDAJKLJKL\", i, abs(resid_t[i][0] - resid_t[i][1]), A_det_t[i], cg_ls_diff_t[i])\n",
    "\n",
    "print(diff_soln_counter)"
   ]
  },
  {
   "cell_type": "markdown",
   "metadata": {},
   "source": [
    "## takeaways:\n",
    "- cg = least squares when A is non-singular (expected)\n",
    "- cg and least squares are sometimes different when A is singular (expected)\n",
    "    - with probability of difference ~= 16%\n",
    "- residual norm is different when A singular on very rare occasions (~2/5000 or less than 0.04%)\n",
    "    - one of the times, difference was very small (O(1e-5))\n",
    "    - other time difference was fairly large (~0.5)! \n",
    "    - both of these times the norm between lst squares soln and cg soln was ~250 and ~400,000 respectively"
   ]
  },
  {
   "cell_type": "markdown",
   "metadata": {},
   "source": [
    "# does using cg vs cg yield different solution when converges?"
   ]
  },
  {
   "cell_type": "code",
   "execution_count": 161,
   "metadata": {},
   "outputs": [],
   "source": [
    "\n",
    "def flow_inner_choice(Q, N, v0, initial_guess = np.array([]), max_itrs = 100, m_tol = 1e-09, CoR = 1, use_cg = True):\n",
    "    \"\"\"\n",
    "    does policy iteration\n",
    "    returns a bool/vector pair: (converged, x)\n",
    "    \"\"\"\n",
    "    b = np.dot(N.T, (1 + CoR) * v0)\n",
    "    x = np.zeros(b.shape[0])\n",
    "\n",
    "    if len(initial_guess) > 0:\n",
    "        x = initial_guess\n",
    "\n",
    "    policy = np.zeros((b.shape[0], b.shape[0]))\n",
    "    error = 0.0\n",
    "\n",
    "    for n_iter in range(max_itrs):\n",
    "        error = get_policy(Q, x, b, policy)\n",
    "        if error <= m_tol:\n",
    "            return (True, x)\n",
    "        x = update_value(policy, Q, b, use_cg)\n",
    "    \n",
    "    return (False, x)"
   ]
  },
  {
   "cell_type": "code",
   "execution_count": 162,
   "metadata": {},
   "outputs": [
    {
     "name": "stdout",
     "output_type": "stream",
     "text": [
      "95 3.85552819763498e-15\n",
      "207 2.03513234975361e-06\n",
      "308 1.969895152404778e-14\n",
      "391 5.088892257088417e-15\n"
     ]
    }
   ],
   "source": [
    "for i in range(len(cycle_size_t)):\n",
    "    if pd_data['ipopt_converged'][i] == False:\n",
    "        continue\n",
    "    if pd_data['policy_converged'][i] == False:\n",
    "        print(i, min_err_t[i])\n"
   ]
  },
  {
   "cell_type": "markdown",
   "metadata": {},
   "source": [
    "# ipopt actually diverges sometimes..."
   ]
  },
  {
   "cell_type": "code",
   "execution_count": 163,
   "metadata": {},
   "outputs": [
    {
     "name": "stdout",
     "output_type": "stream",
     "text": [
      "0.176 0.838\n"
     ]
    }
   ],
   "source": [
    "p_ipopt_converges = len([a for a in pd_data['ipopt_converged'] if a]) / len(pd_data)\n",
    "p_pi_converges = len([a for a in pd_data['policy_converged'] if a]) / len(pd_data)\n",
    "print(p_ipopt_converges, p_pi_converges)"
   ]
  },
  {
   "cell_type": "code",
   "execution_count": 171,
   "metadata": {},
   "outputs": [],
   "source": [
    "# or does it...? maybe we are using wrong error function?\n",
    "def obj_func(Minv, N, v0, sol):\n",
    "    # assume elastic collision\n",
    "    return 0.5 * (N @ sol + v0).T @ Minv @ (N @ sol + v0)\n",
    "\n",
    "def obj_func_prime(Minv, N, v0, sol):\n",
    "    err = 0\n",
    "    b = 2 * N.T @ v0\n",
    "    # print(N.T @ Minv @ N @ sol)\n",
    "    y = (N.T @ Minv @ N @ sol) + b\n",
    "    for i in range(len(sol)):\n",
    "        err += min(sol[i], y[i]) ** 2    # x should be > 0, while y should be as close to 0 as possible\n",
    "    return err ** 0.5\n"
   ]
  },
  {
   "cell_type": "code",
   "execution_count": 181,
   "metadata": {},
   "outputs": [
    {
     "name": "stdout",
     "output_type": "stream",
     "text": [
      "[75, 93, 96, 153, 162, 168, 181, 290, 339, 353, 357, 405, 452]\n",
      "[7.6157358321e-07 4.6312535392e-07 7.4489240776e-08 2.0275141677e-07 8.1459987511e-07 2.2250713778e-06 1.0301940647e+01 7.4643774051e-08 1.0693156891e-06 1.5141861041e-06 6.1429509513e-01 1.4154117256e-07 5.4794890014e+00]\n"
     ]
    }
   ],
   "source": [
    "derivative_at_ipopt_sol_dist_from_0 = np.array([])\n",
    "ipopt_objs = []\n",
    "pi_objs = []\n",
    "ipopt_objs_prime = []\n",
    "pi_objs_prime = []\n",
    "for i in range(len(pd_data)):\n",
    "    pi_min_err = min_err_t[i]\n",
    "\n",
    "    ipopt_sol = pd_data['ipopt_sol'][i]\n",
    "\n",
    "    # calculate the ipopt error like how we calculated the error for the policy iteration\n",
    "    Q = pd_data['Q'][i]\n",
    "    v0 = pd_data['v0'][i]\n",
    "    N = pd_data['N'][i]\n",
    "    Minv = pd_data['Minv'][i]\n",
    "    b = np.dot(N.T, (1 + 1) * v0)\n",
    "    # print(np.linalg.norm(N.T @ Minv @ N - Q)) # always < 1e-06\n",
    "    ipopt_err = 0\n",
    "    y = np.dot(Q, ipopt_sol) + b\n",
    "    for j in range(len(ipopt_sol)):\n",
    "        ipopt_err += min(ipopt_sol[j], y[j]) ** 2    # x should be > 0, while y should be as close to 0 as possible\n",
    "\n",
    "    ipopt_err **= 0.5\n",
    "\n",
    "    derivative_at_ipopt_sol_dist_from_0 = np.append(derivative_at_ipopt_sol_dist_from_0, np.linalg.norm(y))\n",
    "\n",
    "    ipopt_objs.append(obj_func(Minv, N, v0, ipopt_sol))\n",
    "    pi_objs.append(obj_func(Minv, N, v0, min_err_x_t[i]))\n",
    "    ipopt_objs_prime.append(obj_func_prime(Minv, N, v0, ipopt_sol))\n",
    "    pi_objs_prime.append(obj_func_prime(Minv, N, v0, min_err_x_t[i]))\n",
    "\n",
    "    tol = 1e-6\n",
    "    # if ipopt_err < tol and pi_min_err < tol:\n",
    "    #     print(\"both ok\")\n",
    "    # if ipopt_err < tol and pi_min_err > tol:\n",
    "    #     print(\"policy bad with error:\", pi_min_err)\n",
    "    # if ipopt_err > tol and pi_min_err < tol:\n",
    "    #     print(\"ipopt bad with error:\", ipopt_err)\n",
    "    # if ipopt_err > tol and pi_min_err > tol:\n",
    "    #     print(f\"both bad, ipopt: {ipopt_err}, pi: {pi_min_err}\")\n",
    "\n",
    "# print(ipopt_objs)\n",
    "# print(pi_objs)\n",
    "\n",
    "diverging_cases = [i for i in range(len(pd_data)) if cycle_size_t[i] == 2]\n",
    "print(diverging_cases)\n",
    "print(np.array(min_err_t)[diverging_cases])"
   ]
  },
  {
   "cell_type": "code",
   "execution_count": null,
   "metadata": {},
   "outputs": [
    {
     "data": {
      "text/plain": [
       "Text(0, 0.5, 'objective function @ PI solution')"
      ]
     },
     "execution_count": 117,
     "metadata": {},
     "output_type": "execute_result"
    },
    {
     "data": {
      "image/png": "[encoded data removed]",
      "text/plain": [
       "<Figure size 640x480 with 1 Axes>"
      ]
     },
     "metadata": {},
     "output_type": "display_data"
    }
   ],
   "source": [
    "ipopt_objs = np.array(ipopt_objs)\n",
    "pi_objs = np.array(pi_objs)\n",
    "both_converged_filter = [pd_data['policy_converged'][i] and pd_data['ipopt_converged'][i] for i in range(len(pd_data))]\n",
    "\n",
    "plt.scatter(ipopt_objs[both_converged_filter], pi_objs[both_converged_filter])\n",
    "plt.xlabel(\"objective function @ ipopt solution\")\n",
    "plt.ylabel(\"objective function @ PI solution\")"
   ]
  },
  {
   "cell_type": "code",
   "execution_count": null,
   "metadata": {},
   "outputs": [
    {
     "name": "stdout",
     "output_type": "stream",
     "text": [
      "[2.7370481531e-06]\n"
     ]
    }
   ],
   "source": [
    "print(derivative_at_ipopt_sol_dist_from_0)"
   ]
  },
  {
   "cell_type": "markdown",
   "metadata": {},
   "source": [
    "# Nov 30\n",
    "\n",
    "What did I do over the week?\n",
    "- documented the K4 case showing that policy iteration will yield a different solution depending on the initial guess for your policy\n",
    "    - see `K4_demonstrate_PI_2solns.ipynb`\n",
    "- then tried to find a simulation where PI would yield different results depending on the inner solver\n",
    "    - see `pi_diverges_depending_on_inner_solver.ipynb`\n",
    "    - initially, couldn't find anything interesting, but after setting rcond to be `1e-10 / np.max(A)`, (so anything 1e-10 or less is counted as a 0) gave following results:\n",
    "        - there were some scenarios where using least squares for inner method didn't converge while cg converged AND VICE VERSA!\n",
    "        - need to do a little more investigating wrt the `rcond` parameter... why am I only now getting these weird results? Why not when I was using numpy's default settings... TODO\n",
    "- figured out the stopping criteria for cg & least squares inner solver\n",
    "    - cg stops at:\n",
    "        - a) len(b) * 10 iterations, or...\n",
    "        - b) when it crosses user-specified tolerance (this week I've been using 1e-10) \n",
    "    - least squares stops at:\n",
    "        - whenever it feels like... idk (I should know, we just covered this in MATH235)\n",
    "        - did research a bit on rcond; this is an argument says \"treat an element as 0 if it is less than `np.max(A) * rcond`\". This had effects on PI's convergence\n",
    "    \n",
    "## big find pt 1:\n",
    "- upon closely investigating the 9-ball policy iteration diverging, noticed that PI resulted in a policy (control set) that SHOULD have resulted in the IPOPT solution\n",
    "    - linear solver then didn't find the ipopt solution, instead found a solution that wasn't sufficiently small in error -> cycling ensues\n",
    "\n",
    "## big find pt 2:\n",
    "- ipopt solutions don't \"converge\" according to our policy iteration criteria\n",
    "    - we try to minimize the derivative (while keeping all lambda >= 0) and stop when the derivative is sufficiently close to 0\n",
    "    - ipopt stops... ??? idk when, but it's \"optimal lambda\" is often NOT where the derivative = 0 (most of the time we get output of \"ipopt bad with error > 10\")\n",
    "        - see above... norm of derivative evaluated at ipopt's solution is ~ 1-10\n",
    "    - similarly, the PI solution yields a comparatively large objective function (the QP obj that we are trying to minimize)\n",
    "        - however, I'm getting that the original objective function evaluated at ipopt's soln is > 0 too... doesn't this mean that dH is large? but when I run simulation it says that dH is ~1e-7\n",
    "        - leads me to think that I'm doing something wrong in the calculations!\n",
    "\n"
   ]
  },
  {
   "cell_type": "markdown",
   "metadata": {},
   "source": [
    "todo: sanity check with a simple case (3 balls)"
   ]
  }
 ],
 "metadata": {
  "kernelspec": {
   "display_name": "Python 3.10.6 64-bit",
   "language": "python",
   "name": "python3"
  },
  "language_info": {
   "codemirror_mode": {
    "name": "ipython",
    "version": 3
   },
   "file_extension": ".py",
   "mimetype": "text/x-python",
   "name": "python",
   "nbconvert_exporter": "python",
   "pygments_lexer": "ipython3",
   "version": "3.10.6"
  },
  "orig_nbformat": 4,
  "vscode": {
   "interpreter": {
    "hash": "916dbcbb3f70747c44a77c7bcd40155683ae19c65e1c03b4aa3499c5328201f1"
   }
  }
 },
 "nbformat": 4,
 "nbformat_minor": 2
}
