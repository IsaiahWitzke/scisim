{
 "cells": [
  {
   "cell_type": "code",
   "execution_count": 41,
   "metadata": {},
   "outputs": [],
   "source": [
    "import scipy\n",
    "import numpy as np\n",
    "import data_import\n",
    "import matplotlib.pyplot as plt"
   ]
  },
  {
   "cell_type": "code",
   "execution_count": 29,
   "metadata": {},
   "outputs": [],
   "source": [
    "\n",
    "def get_policy(Q, x, b, policy):\n",
    "    \"\"\"\n",
    "    updates policy to the next policy,\n",
    "    returns error\n",
    "    \"\"\"\n",
    "    err2 = 0\n",
    "    y = np.dot(Q, x) + b\n",
    "    for i in range(len(x)):\n",
    "        choice = 0.0\n",
    "        if y[i] < x[i]:\n",
    "            choice = 1\n",
    "        err2 += min(x[i], y[i]) ** 2    # x should be > 0, while y should be as close to 0 as possible\n",
    "\n",
    "        policy[i,i] = choice\n",
    "    flat_policy = [i for i in range(policy.shape[0]) if policy[i,i] == 1]\n",
    "    return err2 ** 0.5\n",
    "\n",
    "def update_value(policy, Q, b, use_cg = True):\n",
    "    \"\"\"\n",
    "    returns the next x given the policy\n",
    "    \"\"\"\n",
    "    I = np.eye(len(b))\n",
    "    A = np.dot(\n",
    "            np.dot(\n",
    "                policy,\n",
    "                Q\n",
    "            ),\n",
    "            policy\n",
    "        ) + I - policy\n",
    "    rhs = -np.dot(policy, b) \n",
    "    lst_sqr_soln = np.linalg.lstsq(A , rhs)[0]\n",
    "    cg_soln = scipy.sparse.linalg.cg(A , rhs , tol=1e-12)[0]\n",
    "    # print(\n",
    "    #     \"cg soln err:\",\n",
    "    #     np.linalg.norm(\n",
    "    #         np.dot(A, cg_soln) - rhs\n",
    "    #     )\n",
    "    # )\n",
    "    if use_cg:\n",
    "        return cg_soln\n",
    "    else:\n",
    "        return lst_sqr_soln\n",
    "\n",
    "\n",
    "def flow(Q, N, v0, max_itrs = 100, m_tol = 1e-09, CoR = 1):\n",
    "    \"\"\"\n",
    "    does policy iteration\n",
    "    returns a bool/vector pair: (converged, x)\n",
    "    \"\"\"\n",
    "    # print(\"new\")\n",
    "    min_err = 1.0e10\n",
    "    b = np.dot(N.T, (1 + CoR) * v0)\n",
    "    # print(\"b\")\n",
    "    # print(b)\n",
    "    x = np.zeros(b.shape[0])\n",
    "    policy = np.zeros((b.shape[0], b.shape[0]))\n",
    "    error = 0.0\n",
    "\n",
    "    previous_lambdas = []\n",
    "    cg_ls_diff = []\n",
    "    A_det = []\n",
    "    resid = []\n",
    "\n",
    "    for n_iter in range(max_itrs):\n",
    "        # print(\"n_iter: \", n_iter)\n",
    "        error = get_policy(Q, x, b, policy)\n",
    "        min_err = min(min_err, error)\n",
    "        # print(error)\n",
    "\n",
    "        if error <= m_tol:\n",
    "            return (True, x, min_err, -1, cg_ls_diff, A_det, resid)\n",
    "\n",
    "        x_cg = update_value(policy, Q, b, True)\n",
    "        x_ls = update_value(policy, Q, b, False)\n",
    "\n",
    "        cg_ls_diff.append(np.linalg.norm(x_cg - x_ls))\n",
    "\n",
    "        A = np.dot( np.dot( policy, Q), policy) + np.eye(len(b)) - policy\n",
    "        rhs = -np.dot(policy, b) \n",
    "        A_det.append(np.linalg.det(A))\n",
    "\n",
    "        resid.append((\n",
    "            np.linalg.norm(np.dot(A, x_cg) - rhs),\n",
    "            np.linalg.norm(np.dot(A, x_ls) - rhs)\n",
    "        ))\n",
    "\n",
    "        x = x_ls.copy()\n",
    "\n",
    "        \n",
    "        if list(x) in previous_lambdas:\n",
    "            return (False , x, min_err, len(previous_lambdas) - previous_lambdas.index(list(x)), cg_ls_diff, A_det, resid)\n",
    "        \n",
    "        previous_lambdas.append(list(x.copy()))\n",
    "    \n",
    "    return (False, x, min_err, -1, cg_ls_diff, A_det, resid)  # shouldn't get here\n"
   ]
  },
  {
   "cell_type": "code",
   "execution_count": 10,
   "metadata": {},
   "outputs": [],
   "source": [
    "pd_data = data_import.read_files_to_pd_dataframe(\n",
    "    [f\"../outs/grid/itr_{i}.xml.out\" for i in range(500)]\n",
    ")\n",
    "# pd_data = data_import.read_file_to_pd_dataframe(\"../simple_example.out\")\n",
    "# pd_data = data_import.read_file_to_pd_dataframe(\"../K4.out\")"
   ]
  },
  {
   "cell_type": "code",
   "execution_count": 8,
   "metadata": {},
   "outputs": [],
   "source": [
    "np.set_printoptions(linewidth=2000, precision=10)"
   ]
  },
  {
   "cell_type": "markdown",
   "metadata": {},
   "source": [
    "# ensure that cg solution yields least sqr soln"
   ]
  },
  {
   "cell_type": "code",
   "execution_count": 40,
   "metadata": {},
   "outputs": [
    {
     "name": "stderr",
     "output_type": "stream",
     "text": [
      "/tmp/ipykernel_187884/773912813.py:31: FutureWarning: `rcond` parameter will change to the default of machine precision times ``max(M, N)`` where M and N are the input matrix dimensions.\n",
      "To use the future default and silence this warning we advise to pass `rcond=None`, to keep using the old, explicitly pass `rcond=-1`.\n",
      "  lst_sqr_soln = np.linalg.lstsq(A , rhs)[0]\n"
     ]
    }
   ],
   "source": [
    "cg_ls_diff_t = []\n",
    "A_det_t = []\n",
    "resid_t = []\n",
    "min_err_t = []\n",
    "cycle_size_t = []\n",
    "for i in range(len(pd_data)):\n",
    "    Q = pd_data['Q'][i]\n",
    "    N = pd_data['N'][i]\n",
    "    v0= pd_data['v0'][i]\n",
    "    converged, x, min_err, cycle_size, cg_ls_diff, A_det, resid = flow(Q, N, v0)\n",
    "    cg_ls_diff_t += cg_ls_diff.copy()\n",
    "    A_det_t += A_det.copy()\n",
    "    resid_t += resid.copy()\n",
    "    min_err_t.append(min_err)\n",
    "    cycle_size_t.append(cycle_size)"
   ]
  },
  {
   "cell_type": "code",
   "execution_count": 33,
   "metadata": {},
   "outputs": [
    {
     "name": "stdout",
     "output_type": "stream",
     "text": [
      "5318\n",
      "5318\n",
      "5318\n"
     ]
    }
   ],
   "source": [
    "print(len(cg_ls_diff_t))\n",
    "print(len(A_det_t))\n",
    "print(len(resid_t))"
   ]
  },
  {
   "cell_type": "code",
   "execution_count": 39,
   "metadata": {},
   "outputs": [
    {
     "name": "stdout",
     "output_type": "stream",
     "text": [
      "ASKLJDDASLKJSDAJKLJKL 1158 0.5199058841262565 -3.0449074646393275e-87 426357.7229872154\n",
      "ASKLJDDASLKJSDAJKLJKL 4894 2.0766893572145443e-05 1.7655497112900267e-71 268.0459010596703\n",
      "837\n"
     ]
    }
   ],
   "source": [
    "diff_soln_counter = 0\n",
    "\n",
    "for i in range(len(A_det_t)):\n",
    "    # non singular.... ensure that both cg and lst sqrs soln is the same\n",
    "    if abs(A_det_t[i]) > 1e-06 and abs(cg_ls_diff_t[i]) > 1e-06:\n",
    "        print(\"AHHHHH \", i) # this never prints\n",
    "    \n",
    "    # singular.... ensure that cg and lst sqrs is different sometimes\n",
    "    if abs(A_det_t[i]) <= 1e-06 and abs(cg_ls_diff_t[i]) > 1e-06:\n",
    "        diff_soln_counter += 1\n",
    "\n",
    "    # does \"quality of lambda\" change if we are using cg vs ls?\n",
    "    if abs(resid_t[i][0] - resid_t[i][1]) > 1e-07:\n",
    "        print(\"ASKLJDDASLKJSDAJKLJKL\", i, abs(resid_t[i][0] - resid_t[i][1]), A_det_t[i], cg_ls_diff_t[i])\n",
    "\n",
    "print(diff_soln_counter)"
   ]
  },
  {
   "cell_type": "markdown",
   "metadata": {},
   "source": [
    "## takeaways:\n",
    "- cg = least squares when A is singular (expected)\n",
    "- cg and least squares are sometimes different when A is singular (expected)\n",
    "    - with probability of difference ~= 16%\n",
    "- residual norm is different when A singular on very rare occasions (~2/5000 or less than 0.04%)\n",
    "    - one of the times, difference was very small (O(1e-5))\n",
    "    - other time difference was fairly large (~0.5)! \n",
    "    - both of these times the norm between lst squares soln and cg soln was ~250 and ~400,000 respectively"
   ]
  },
  {
   "cell_type": "code",
   "execution_count": 43,
   "metadata": {},
   "outputs": [
    {
     "data": {
      "text/plain": [
       "[<matplotlib.lines.Line2D at 0x7f6ba442d630>]"
      ]
     },
     "execution_count": 43,
     "metadata": {},
     "output_type": "execute_result"
    },
    {
     "data": {
      "image/png": "[encoded data removed]",
      "text/plain": [
       "<Figure size 640x480 with 1 Axes>"
      ]
     },
     "metadata": {},
     "output_type": "display_data"
    }
   ],
   "source": [
    "# cycle size vs min err\n",
    "plt.plot(cycle_size_t, min_err_t, \"g.\")"
   ]
  },
  {
   "cell_type": "code",
   "execution_count": 7,
   "metadata": {},
   "outputs": [
    {
     "data": {
      "text/plain": [
       "0     4.173505e-18\n",
       "1    -4.031944e-36\n",
       "2     2.034247e-18\n",
       "3    -1.123775e-46\n",
       "4    -1.222691e-39\n",
       "          ...     \n",
       "95   -1.838282e-28\n",
       "96   -7.435175e-76\n",
       "97   -5.778868e-78\n",
       "98    2.327821e-33\n",
       "99    2.302561e-40\n",
       "Name: Q_det, Length: 100, dtype: float64"
      ]
     },
     "execution_count": 7,
     "metadata": {},
     "output_type": "execute_result"
    }
   ],
   "source": [
    "\n",
    "pd_data['Q_det']"
   ]
  }
 ],
 "metadata": {
  "kernelspec": {
   "display_name": "Python 3.10.6 64-bit",
   "language": "python",
   "name": "python3"
  },
  "language_info": {
   "codemirror_mode": {
    "name": "ipython",
    "version": 3
   },
   "file_extension": ".py",
   "mimetype": "text/x-python",
   "name": "python",
   "nbconvert_exporter": "python",
   "pygments_lexer": "ipython3",
   "version": "3.10.6"
  },
  "orig_nbformat": 4,
  "vscode": {
   "interpreter": {
    "hash": "916dbcbb3f70747c44a77c7bcd40155683ae19c65e1c03b4aa3499c5328201f1"
   }
  }
 },
 "nbformat": 4,
 "nbformat_minor": 2
}
