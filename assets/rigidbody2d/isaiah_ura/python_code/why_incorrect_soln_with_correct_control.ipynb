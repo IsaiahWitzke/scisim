{
 "cells": [
  {
   "cell_type": "code",
   "execution_count": 15,
   "metadata": {},
   "outputs": [],
   "source": [
    "import numpy as np\n",
    "import scipy\n",
    "import sympy\n",
    "import data_import\n",
    "import pandas as pd"
   ]
  },
  {
   "cell_type": "markdown",
   "metadata": {},
   "source": [
    "# Data Import & Pre-processing"
   ]
  },
  {
   "cell_type": "code",
   "execution_count": 16,
   "metadata": {},
   "outputs": [],
   "source": [
    "pd_data = data_import.read_files_to_pd_dataframe(\n",
    "    [f\"../outs/grid/itr_{i}.xml.out\" for i in range(500)]\n",
    ")"
   ]
  },
  {
   "cell_type": "markdown",
   "metadata": {},
   "source": [
    "# Policy Iteration Algo"
   ]
  },
  {
   "cell_type": "code",
   "execution_count": 40,
   "metadata": {},
   "outputs": [],
   "source": [
    "\n",
    "def get_policy(Q, x, b):\n",
    "    \"\"\"\n",
    "    updates policy to the next policy,\n",
    "    returns error\n",
    "    \"\"\"\n",
    "    policy = []\n",
    "    err2 = 0\n",
    "    y = np.dot(Q, x) + b\n",
    "    for i in range(len(x)):\n",
    "        if y[i] < x[i]:\n",
    "            policy.append(i)\n",
    "        err2 += min(x[i], y[i]) ** 2    # x should be > 0, while y should be as close to 0 as possible\n",
    "    return err2 ** 0.5, policy\n",
    "\n",
    "# get the sub-system of linear equations given the policy\n",
    "def get_sub_sys(policy, Q, b):\n",
    "    policy_matrix = np.zeros((b.shape[0], b.shape[0]))\n",
    "    for p in policy:\n",
    "        policy_matrix[p,p] = 1\n",
    "    I = np.eye(len(b))\n",
    "    A = np.dot(\n",
    "            np.dot(\n",
    "                policy_matrix,\n",
    "                Q\n",
    "            ),\n",
    "            policy_matrix\n",
    "        ) + I - policy_matrix\n",
    "\n",
    "    rhs = - policy_matrix @ b \n",
    "    # new_Q = np.zeros((len(policy), len(policy)))\n",
    "    # new_b = np.zeros(len(policy))\n",
    "\n",
    "    # for new_row, old_row in enumerate(policy):\n",
    "    #     new_b[new_row] = b[old_row]\n",
    "    #     for new_col, old_col in enumerate(policy):\n",
    "    #         new_Q[new_row, new_col] = Q[old_row, old_col]\n",
    "    \n",
    "    return A, rhs\n",
    "    \n",
    "\n",
    "\n",
    "def update_value(policy, Q, b, use_cg = True):\n",
    "    \"\"\"\n",
    "    returns the next x given the policy\n",
    "    \"\"\"\n",
    "    I = np.eye(len(b))\n",
    "    policy_matrix = np.zeros((b.shape[0], b.shape[0]))\n",
    "    for p in policy:\n",
    "        policy_matrix[p,p] = 1\n",
    "    A = np.dot(\n",
    "            np.dot(\n",
    "                policy_matrix,\n",
    "                Q\n",
    "            ),\n",
    "            policy_matrix\n",
    "        ) + I - policy_matrix\n",
    "    rhs = - policy_matrix @ b \n",
    "    lst_sqr_soln = np.linalg.lstsq(A , rhs)[0]\n",
    "    cg_soln = scipy.sparse.linalg.cg(A , rhs , tol=1e-12)[0]\n",
    "    if use_cg:\n",
    "        return cg_soln\n",
    "    else:\n",
    "        return lst_sqr_soln\n",
    "\n",
    "\n",
    "def flow(Q, N, v0, correct_policy, max_itrs = 100, m_tol = 1e-09, CoR = 1, use_cg = True):\n",
    "    \"\"\"\n",
    "    does policy iteration\n",
    "    returns a bool/vector pair: (converged, x)\n",
    "    \"\"\"\n",
    "    b = np.dot(N.T, (1 + CoR) * v0)\n",
    "    x = np.zeros(b.shape[0])\n",
    "    policy = []\n",
    "    error = 0.0\n",
    "\n",
    "    found_correct_control = False\n",
    "\n",
    "    for n_iter in range(max_itrs):\n",
    "\n",
    "        # have we stumbled across the correct policy/control?\n",
    "        if correct_policy == policy:\n",
    "            found_correct_control = True\n",
    "\n",
    "        error, policy = get_policy(Q, x, b)\n",
    "        if error <= m_tol:\n",
    "            return (True, x, found_correct_control)\n",
    "\n",
    "        x = update_value(policy, Q, b, use_cg)\n",
    "    \n",
    "    return (False, x, found_correct_control)\n",
    "\n"
   ]
  },
  {
   "cell_type": "markdown",
   "metadata": {},
   "source": [
    "# For sim 181...\n",
    "\n",
    "policy iteration ends up hitting the \"correct\" policy (i.e. the policy that could feasibly result in the ipopt soln),\n",
    "but the inner solver doesn't give a \"good\" soln, so we move off of the \"correct\" policy to a \"worse?\" one"
   ]
  },
  {
   "cell_type": "code",
   "execution_count": 18,
   "metadata": {},
   "outputs": [],
   "source": [
    "def get_ipopt_control(x):\n",
    "    # anything less than 1e-6 is counted as a 0 since thats the tolerance we set in the xml files\n",
    "    return [i for i in range(len(x)) if x[i] > 1e-6]\n",
    "\n",
    "pd_data['correct_control'] = [get_ipopt_control(x) for x in pd_data['ipopt_sol']]\n",
    "# pd_data['correct_control']"
   ]
  },
  {
   "cell_type": "code",
   "execution_count": 47,
   "metadata": {},
   "outputs": [
    {
     "name": "stdout",
     "output_type": "stream",
     "text": [
      "[ 0.       0.       0.16866  0.       0.11749  0.89797  0.12861  1.83571  1.41561 -0.      -0.       0.       1.2543   0.22435  0.04477  0.16199  0.16519  0.      -0.       1.05651 -0.       1.26802  0.       0.59757  1.73745  0.35604  0.     ]\n"
     ]
    }
   ],
   "source": [
    "i = 181\n",
    "Q = pd_data['Q'][i]\n",
    "N = pd_data['N'][i]\n",
    "v0 = pd_data['v0'][i]\n",
    "\n",
    "b = np.dot(N.T, (1 + 1) * v0)\n",
    "\n",
    "correct_control = pd_data['correct_control'][i]\n",
    "\n",
    "sub_Q, rhs = get_sub_sys(correct_control, Q, b)\n",
    "\n",
    "np.set_printoptions(linewidth=1000, precision=6)\n",
    "# scipy.linalg.null_space(sub_Q, 1e-5)  # null space is empty!\n",
    "cg_soln = scipy.sparse.linalg.cg(sub_Q , rhs , tol=1e-12)[0]\n",
    "\n",
    "ipopt_soln = pd_data['ipopt_sol'][i]\n",
    "\n",
    "\n",
    "print(np.around(Q @ ipopt_soln + b, 5))\n"
   ]
  },
  {
   "cell_type": "markdown",
   "metadata": {},
   "source": [
    "it turns out that not even the ipopt solution is the \"correct\" solution!"
   ]
  }
 ],
 "metadata": {
  "kernelspec": {
   "display_name": "Python 3.10.6 64-bit",
   "language": "python",
   "name": "python3"
  },
  "language_info": {
   "codemirror_mode": {
    "name": "ipython",
    "version": 3
   },
   "file_extension": ".py",
   "mimetype": "text/x-python",
   "name": "python",
   "nbconvert_exporter": "python",
   "pygments_lexer": "ipython3",
   "version": "3.10.6"
  },
  "orig_nbformat": 4,
  "vscode": {
   "interpreter": {
    "hash": "916dbcbb3f70747c44a77c7bcd40155683ae19c65e1c03b4aa3499c5328201f1"
   }
  }
 },
 "nbformat": 4,
 "nbformat_minor": 2
}
