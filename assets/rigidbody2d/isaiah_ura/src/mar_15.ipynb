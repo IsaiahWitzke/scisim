{
 "cells": [
  {
   "cell_type": "code",
   "execution_count": 3,
   "metadata": {},
   "outputs": [],
   "source": [
    "import numpy as np\n",
    "import pandas as pd\n",
    "import data_import\n",
    "from policy_iter import PolicyIteration\n",
    "np.set_printoptions(linewidth=1000, edgeitems=300)\n"
   ]
  },
  {
   "cell_type": "code",
   "execution_count": 8,
   "metadata": {},
   "outputs": [
    {
     "data": {
      "text/plain": [
       "Index(['index', 'N', 'Q', 'v0', 'Minv', 'M', 'ipopt_sol', 'policy_sol',\n",
       "       'policy_converged', 'ipopt_converged', 'f_name', 'Q_size', 'Q_inv',\n",
       "       'Q_inv_min_val', 'Q_inv_num_lt_0', 'Q_det', 'eigenvalues', 'cond_num',\n",
       "       'cond_num_no_inf', 'Q_num_off_diag_entries', 'thetas', 'min_theta',\n",
       "       'rank', 'nullity', 'ipopt_delta_KE', 'ipopt_policy', 'b'],\n",
       "      dtype='object')"
      ]
     },
     "execution_count": 8,
     "metadata": {},
     "output_type": "execute_result"
    }
   ],
   "source": [
    "bad_cases = []\n",
    "pd_data: pd.DataFrame = data_import.read_files_to_pd_dataframe(\n",
    "    [f\"../outs/grid_v2/itr_{i}.xml.out\" for i in range(500) if i not in bad_cases]\n",
    "    # [f\"../outs/general/K4_with_middle.xml.out\"]\n",
    ")\n",
    "pd_data.columns"
   ]
  },
  {
   "cell_type": "code",
   "execution_count": 11,
   "metadata": {},
   "outputs": [
    {
     "name": "stdout",
     "output_type": "stream",
     "text": [
      "0\n",
      "1\n",
      "2\n",
      "3\n",
      "4\n",
      "5\n",
      "6\n",
      "7\n",
      "8\n"
     ]
    },
    {
     "ename": "TypeError",
     "evalue": "object of type 'float' has no len()",
     "output_type": "error",
     "traceback": [
      "\u001b[0;31m---------------------------------------------------------------------------\u001b[0m",
      "\u001b[0;31mTypeError\u001b[0m                                 Traceback (most recent call last)",
      "\u001b[1;32m/home/isaiah/scisim/assets/rigidbody2d/isaiah_ura/src/mar_15.ipynb Cell 3\u001b[0m in \u001b[0;36m3\n\u001b[1;32m      <a href='vscode-notebook-cell:/home/isaiah/scisim/assets/rigidbody2d/isaiah_ura/src/mar_15.ipynb#W2sZmlsZQ%3D%3D?line=0'>1</a>\u001b[0m \u001b[39mfor\u001b[39;00m i \u001b[39min\u001b[39;00m \u001b[39mrange\u001b[39m(\u001b[39mlen\u001b[39m(pd_data)):\n\u001b[1;32m      <a href='vscode-notebook-cell:/home/isaiah/scisim/assets/rigidbody2d/isaiah_ura/src/mar_15.ipynb#W2sZmlsZQ%3D%3D?line=1'>2</a>\u001b[0m     \u001b[39mprint\u001b[39m(i)\n\u001b[0;32m----> <a href='vscode-notebook-cell:/home/isaiah/scisim/assets/rigidbody2d/isaiah_ura/src/mar_15.ipynb#W2sZmlsZQ%3D%3D?line=2'>3</a>\u001b[0m     pi \u001b[39m=\u001b[39m PolicyIteration(\n\u001b[1;32m      <a href='vscode-notebook-cell:/home/isaiah/scisim/assets/rigidbody2d/isaiah_ura/src/mar_15.ipynb#W2sZmlsZQ%3D%3D?line=3'>4</a>\u001b[0m         pd_data[\u001b[39m'\u001b[39;49m\u001b[39mQ\u001b[39;49m\u001b[39m'\u001b[39;49m][i],\n\u001b[1;32m      <a href='vscode-notebook-cell:/home/isaiah/scisim/assets/rigidbody2d/isaiah_ura/src/mar_15.ipynb#W2sZmlsZQ%3D%3D?line=4'>5</a>\u001b[0m         pd_data[\u001b[39m'\u001b[39;49m\u001b[39mb\u001b[39;49m\u001b[39m'\u001b[39;49m][i],\n\u001b[1;32m      <a href='vscode-notebook-cell:/home/isaiah/scisim/assets/rigidbody2d/isaiah_ura/src/mar_15.ipynb#W2sZmlsZQ%3D%3D?line=5'>6</a>\u001b[0m         \u001b[39m# init_value=pd_data_tests_ipopt_start['ipopt_sol'][request.param],\u001b[39;49;00m\n\u001b[1;32m      <a href='vscode-notebook-cell:/home/isaiah/scisim/assets/rigidbody2d/isaiah_ura/src/mar_15.ipynb#W2sZmlsZQ%3D%3D?line=6'>7</a>\u001b[0m         name\u001b[39m=\u001b[39;49m\u001b[39mf\u001b[39;49m\u001b[39m\"\u001b[39;49m\u001b[39m{\u001b[39;49;00mi\u001b[39m}\u001b[39;49;00m\u001b[39m\"\u001b[39;49m\n\u001b[1;32m      <a href='vscode-notebook-cell:/home/isaiah/scisim/assets/rigidbody2d/isaiah_ura/src/mar_15.ipynb#W2sZmlsZQ%3D%3D?line=7'>8</a>\u001b[0m     )\n\u001b[1;32m      <a href='vscode-notebook-cell:/home/isaiah/scisim/assets/rigidbody2d/isaiah_ura/src/mar_15.ipynb#W2sZmlsZQ%3D%3D?line=8'>9</a>\u001b[0m     pi\u001b[39m.\u001b[39mmax_iter \u001b[39m=\u001b[39m \u001b[39m100\u001b[39m\n\u001b[1;32m     <a href='vscode-notebook-cell:/home/isaiah/scisim/assets/rigidbody2d/isaiah_ura/src/mar_15.ipynb#W2sZmlsZQ%3D%3D?line=9'>10</a>\u001b[0m     pi\u001b[39m.\u001b[39msolve()\n",
      "File \u001b[0;32m~/scisim/assets/rigidbody2d/isaiah_ura/src/policy_iter.py:8\u001b[0m, in \u001b[0;36mPolicyIteration.__init__\u001b[0;34m(self, *args, **kwargs)\u001b[0m\n\u001b[1;32m      7\u001b[0m \u001b[39mdef\u001b[39;00m \u001b[39m__init__\u001b[39m(\u001b[39mself\u001b[39m, \u001b[39m*\u001b[39margs, \u001b[39m*\u001b[39m\u001b[39m*\u001b[39mkwargs) \u001b[39m-\u001b[39m\u001b[39m>\u001b[39m \u001b[39mNone\u001b[39;00m:\n\u001b[0;32m----> 8\u001b[0m     \u001b[39msuper\u001b[39;49m()\u001b[39m.\u001b[39;49m\u001b[39m__init__\u001b[39;49m( \u001b[39m*\u001b[39;49margs, \u001b[39m*\u001b[39;49m\u001b[39m*\u001b[39;49mkwargs )\n\u001b[1;32m      9\u001b[0m     \u001b[39mself\u001b[39m\u001b[39m.\u001b[39mmax_iter \u001b[39m=\u001b[39m \u001b[39m10\u001b[39m\n",
      "File \u001b[0;32m~/scisim/assets/rigidbody2d/isaiah_ura/src/solver_base.py:20\u001b[0m, in \u001b[0;36mIteratorABC.__init__\u001b[0;34m(self, Q, b, init_value, max_iter, convergence_tol, *args, **kwargs)\u001b[0m\n\u001b[1;32m     18\u001b[0m \u001b[39mself\u001b[39m\u001b[39m.\u001b[39mb \u001b[39m=\u001b[39m b\n\u001b[1;32m     19\u001b[0m \u001b[39mif\u001b[39;00m init_value \u001b[39mis\u001b[39;00m \u001b[39mNone\u001b[39;00m:\n\u001b[0;32m---> 20\u001b[0m     init_value \u001b[39m=\u001b[39m np\u001b[39m.\u001b[39mzeros(\u001b[39mlen\u001b[39;49m(b))\n\u001b[1;32m     21\u001b[0m \u001b[39mself\u001b[39m\u001b[39m.\u001b[39mvalue \u001b[39m=\u001b[39m init_value\u001b[39m.\u001b[39mcopy()\n\u001b[1;32m     22\u001b[0m \u001b[39mself\u001b[39m\u001b[39m.\u001b[39mmax_iter \u001b[39m=\u001b[39m max_iter\n",
      "\u001b[0;31mTypeError\u001b[0m: object of type 'float' has no len()"
     ]
    }
   ],
   "source": [
    "for i in range(len(pd_data)):\n",
    "    pi = PolicyIteration(\n",
    "        pd_data['Q'][i],\n",
    "        pd_data['b'][i],\n",
    "        # init_value=pd_data_tests_ipopt_start['ipopt_sol'][request.param],\n",
    "        name=f\"{i}\"\n",
    "    )\n",
    "    pi.max_iter = 100\n",
    "    pi.solve()"
   ]
  },
  {
   "cell_type": "code",
   "execution_count": null,
   "metadata": {},
   "outputs": [],
   "source": []
  }
 ],
 "metadata": {
  "kernelspec": {
   "display_name": "Python 3",
   "language": "python",
   "name": "python3"
  },
  "language_info": {
   "codemirror_mode": {
    "name": "ipython",
    "version": 3
   },
   "file_extension": ".py",
   "mimetype": "text/x-python",
   "name": "python",
   "nbconvert_exporter": "python",
   "pygments_lexer": "ipython3",
   "version": "3.10.6"
  },
  "orig_nbformat": 4
 },
 "nbformat": 4,
 "nbformat_minor": 2
}
