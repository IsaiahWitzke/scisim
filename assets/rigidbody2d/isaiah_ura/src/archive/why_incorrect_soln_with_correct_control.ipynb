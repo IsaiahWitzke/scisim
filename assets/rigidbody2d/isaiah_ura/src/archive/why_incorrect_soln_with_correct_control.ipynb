{
 "cells": [
  {
   "cell_type": "code",
   "execution_count": 1,
   "metadata": {},
   "outputs": [],
   "source": [
    "import numpy as np\n",
    "import scipy\n",
    "import sympy\n",
    "import data_import\n",
    "import pandas as pd\n",
    "from matplotlib import pyplot as plt"
   ]
  },
  {
   "cell_type": "markdown",
   "metadata": {},
   "source": [
    "# Data Import & Pre-processing"
   ]
  },
  {
   "cell_type": "code",
   "execution_count": 2,
   "metadata": {},
   "outputs": [],
   "source": [
    "pd_data = data_import.read_files_to_pd_dataframe(\n",
    "    [f\"../outs/grid/itr_{i}.xml.out\" for i in range(500)]\n",
    ")"
   ]
  },
  {
   "cell_type": "markdown",
   "metadata": {},
   "source": [
    "# Policy Iteration Algo"
   ]
  },
  {
   "cell_type": "code",
   "execution_count": 3,
   "metadata": {},
   "outputs": [],
   "source": [
    "\n",
    "def get_policy(Q, x, b):\n",
    "    \"\"\"\n",
    "    updates policy to the next policy,\n",
    "    returns error\n",
    "    \"\"\"\n",
    "    policy = []\n",
    "    err2 = 0\n",
    "    y = Q @ x + b\n",
    "    for i in range(len(x)):\n",
    "        if y[i] < x[i]:\n",
    "            policy.append(i)\n",
    "        err2 += min(x[i], y[i]) ** 2    # x should be > 0, while y should be as close to 0 as possible\n",
    "    return err2 ** 0.5, policy\n",
    "\n",
    "# get the sub-system of linear equations given the policy\n",
    "def get_sub_sys(policy, Q, b):\n",
    "    policy_matrix = np.zeros((b.shape[0], b.shape[0]))\n",
    "    for p in policy:\n",
    "        policy_matrix[p,p] = 1\n",
    "    I = np.eye(len(b))\n",
    "    A = np.dot(\n",
    "            np.dot(\n",
    "                policy_matrix,\n",
    "                Q\n",
    "            ),\n",
    "            policy_matrix\n",
    "        ) + I - policy_matrix\n",
    "\n",
    "    rhs = - policy_matrix @ b \n",
    "    # new_Q = np.zeros((len(policy), len(policy)))\n",
    "    # new_b = np.zeros(len(policy))\n",
    "\n",
    "    # for new_row, old_row in enumerate(policy):\n",
    "    #     new_b[new_row] = b[old_row]\n",
    "    #     for new_col, old_col in enumerate(policy):\n",
    "    #         new_Q[new_row, new_col] = Q[old_row, old_col]\n",
    "    \n",
    "    return A, rhs\n",
    "    \n",
    "\n",
    "\n",
    "def update_value(policy, Q, b, use_cg = True):\n",
    "    \"\"\"\n",
    "    returns the next x given the policy\n",
    "    \"\"\"\n",
    "    I = np.eye(len(b))\n",
    "    policy_matrix = np.zeros((b.shape[0], b.shape[0]))\n",
    "    for p in policy:\n",
    "        policy_matrix[p,p] = 1\n",
    "    A = policy_matrix @ Q @ policy_matrix + I - policy_matrix\n",
    "    rhs = - policy_matrix @ b \n",
    "    lst_sqr_soln = np.linalg.lstsq(A , rhs)[0]\n",
    "    cg_soln = scipy.sparse.linalg.cg(A , rhs , tol=1e-12)[0]\n",
    "    if use_cg:\n",
    "        return cg_soln\n",
    "    else:\n",
    "        return lst_sqr_soln\n",
    "\n",
    "\n",
    "def flow(Q, N, v0, correct_policy, max_itrs = 100, m_tol = 1e-09, CoR = 1, use_cg = True):\n",
    "    \"\"\"\n",
    "    does policy iteration\n",
    "    returns a bool/vector pair: (converged, x)\n",
    "    \"\"\"\n",
    "    b = np.dot(N.T, (1 + CoR) * v0)\n",
    "    x = np.zeros(b.shape[0])\n",
    "    policy = []\n",
    "    error = 0.0\n",
    "\n",
    "    found_correct_control = False\n",
    "\n",
    "    for n_iter in range(max_itrs):\n",
    "\n",
    "        # have we stumbled across the correct policy/control?\n",
    "        if correct_policy == policy:\n",
    "            found_correct_control = True\n",
    "\n",
    "        error, policy = get_policy(Q, x, b)\n",
    "        if error <= m_tol:\n",
    "            return (True, x, found_correct_control)\n",
    "\n",
    "        x = update_value(policy, Q, b, use_cg)\n",
    "    \n",
    "    return (False, x, found_correct_control)\n",
    "\n"
   ]
  },
  {
   "cell_type": "markdown",
   "metadata": {},
   "source": [
    "# For sim 181...\n",
    "\n",
    "policy iteration ends up hitting the \"correct\" policy (i.e. the policy that could feasibly result in the ipopt soln),\n",
    "but the inner solver doesn't give a \"good\" soln, so we move off of the \"correct\" policy to a \"worse?\" one"
   ]
  },
  {
   "cell_type": "code",
   "execution_count": 4,
   "metadata": {},
   "outputs": [],
   "source": [
    "def get_ipopt_control(x):\n",
    "    # anything less than 1e-6 is counted as a 0 since thats the tolerance we set in the xml files\n",
    "    return [i for i in range(len(x)) if x[i] > 1e-6]\n",
    "\n",
    "pd_data['correct_control'] = [get_ipopt_control(x) for x in pd_data['ipopt_sol']]\n",
    "# pd_data['correct_control']"
   ]
  },
  {
   "cell_type": "code",
   "execution_count": 5,
   "metadata": {},
   "outputs": [
    {
     "name": "stdout",
     "output_type": "stream",
     "text": [
      "87.01410191379713\n",
      "87.0137689991097\n",
      "3.82600008323945e-06\n"
     ]
    }
   ],
   "source": [
    "i = 181\n",
    "Q = pd_data['Q'][i]\n",
    "N = pd_data['N'][i]\n",
    "v0 = pd_data['v0'][i]\n",
    "M = np.linalg.inv(pd_data['Minv'][i])\n",
    "Minv = pd_data['Minv'][i]\n",
    "b = np.dot(N.T, (1 + 1) * v0)\n",
    "\n",
    "correct_control = pd_data['correct_control'][i]\n",
    "\n",
    "sub_Q, rhs = get_sub_sys(correct_control, Q, b)\n",
    "\n",
    "np.set_printoptions(linewidth=1000, precision=6)\n",
    "# scipy.linalg.null_space(sub_Q, 1e-5)  # null space is empty!\n",
    "cg_soln = scipy.sparse.linalg.cg(sub_Q , rhs , tol=1e-12)[0]\n",
    "\n",
    "ipopt_soln = pd_data['ipopt_sol'][i]\n",
    "\n",
    "\n",
    "# print(np.around(Q @ ipopt_soln + b, 5))\n",
    "\n",
    "# print(get_policy(Q, ipopt_soln, b))\n",
    "\n",
    "# change in kinetic energy?\n",
    "p = M @ v0\n",
    "\n",
    "ke_0 = 0.5 * p.T @ Minv @ p\n",
    "ke_1 = 0.5 * (N @ ipopt_soln + p).T @ Minv @ (N @ ipopt_soln + p)\n",
    "print(ke_0)\n",
    "print(ke_1)\n",
    "print(abs(ke_0 - ke_1)/ke_1)\n",
    "\n"
   ]
  },
  {
   "attachments": {},
   "cell_type": "markdown",
   "metadata": {},
   "source": [
    "it turns out that not even the ipopt solution is the \"correct\" solution <- incorrect!"
   ]
  },
  {
   "cell_type": "code",
   "execution_count": 6,
   "metadata": {},
   "outputs": [],
   "source": [
    "def get_obj_err(N, sol, p, Minv):\n",
    "    return abs(\n",
    "        0.5 * (N @ sol + p).T @ Minv @ (N @ sol + p)\n",
    "        - 0.5 * p.T @ Minv @ p\n",
    "    ) / 0.5 * p.T @ Minv @ p"
   ]
  },
  {
   "cell_type": "code",
   "execution_count": 7,
   "metadata": {},
   "outputs": [
    {
     "name": "stderr",
     "output_type": "stream",
     "text": [
      "/tmp/ipykernel_24663/2829095354.py:58: FutureWarning: `rcond` parameter will change to the default of machine precision times ``max(M, N)`` where M and N are the input matrix dimensions.\n",
      "To use the future default and silence this warning we advise to pass `rcond=None`, to keep using the old, explicitly pass `rcond=-1`.\n",
      "  lst_sqr_soln = np.linalg.lstsq(A , rhs)[0]\n"
     ]
    },
    {
     "name": "stdout",
     "output_type": "stream",
     "text": [
      "[124, 420]\n"
     ]
    }
   ],
   "source": [
    "errs = []\n",
    "obj_errs = []\n",
    "obj_errs_ipopt = np.zeros(500)\n",
    "for i in range(500):\n",
    "\n",
    "    Q = pd_data['Q'][i]\n",
    "    N = pd_data['N'][i]\n",
    "    v0 = pd_data['v0'][i]\n",
    "    b = np.dot(N.T, (1 + 1) * v0)\n",
    "    Minv = pd_data['Minv'][i]\n",
    "    M = np.linalg.inv(Minv)\n",
    "    p = M @ v0\n",
    "    policy = pd_data['correct_control'][i]\n",
    "    \n",
    "    this_pi_soln = update_value(policy, Q, b)\n",
    "\n",
    "    this_pi_soln_err, _ = get_policy(Q, this_pi_soln, b)\n",
    "    errs.append(this_pi_soln_err)\n",
    "    obj_errs.append(get_obj_err(N, this_pi_soln, p, Minv))\n",
    "\n",
    "    obj_errs_ipopt[i] = get_obj_err(N, pd_data['policy_sol'][i], p, Minv)\n",
    "\n",
    "errs = np.array(errs)\n",
    "# print(scipy.stats.describe(errs))\n",
    "# plt.hist(errs, bins=100)\n",
    "obj_errs = np.array(obj_errs)\n",
    "np.count_nonzero(obj_errs[obj_errs <= 1e+01])\n",
    "# print(scipy.stats.describe(errs))\n",
    "# plt.hist(obj_errs_ipopt,bins=100)\n",
    "# print(np.count_nonzero(obj_errs_ipopt > 1e-1))\n",
    "print([i for i in range(500) if obj_errs_ipopt[i] > 1])\n",
    "\n",
    "# print([i for i in range(500) if obj_errs[i] > 1 and errs[i] > 1])\n",
    "# print([i for i in range(500) if obj_errs[i] > 1])\n",
    "# print([i for i in range(500) if errs[i] > 1])\n",
    "# print([i for i in range(500) if obj_errs[i] > 1])\n",
    "\n",
    "\n"
   ]
  },
  {
   "attachments": {},
   "cell_type": "markdown",
   "metadata": {},
   "source": [
    "# computing the delta kinetic energy for the ipopt solutions.\n",
    "\n",
    "If it's actually giving an incorrect answer, dH should be non-0\n",
    "\n",
    "(see `data_import.py`)"
   ]
  },
  {
   "cell_type": "code",
   "execution_count": 11,
   "metadata": {},
   "outputs": [
    {
     "data": {
      "text/plain": [
       "0      0.000012\n",
       "1      0.000015\n",
       "2      0.000034\n",
       "3      0.000049\n",
       "4      0.000023\n",
       "         ...   \n",
       "495    0.000072\n",
       "496    0.000169\n",
       "497    0.000093\n",
       "498    0.000064\n",
       "499    0.000365\n",
       "Name: ipopt_delta_KE, Length: 500, dtype: float64"
      ]
     },
     "execution_count": 11,
     "metadata": {},
     "output_type": "execute_result"
    }
   ],
   "source": [
    "pd_data['ipopt_delta_KE']"
   ]
  },
  {
   "attachments": {},
   "cell_type": "markdown",
   "metadata": {},
   "source": [
    "all these seem ok... max error was about 0.0005... i think this is reasonable?"
   ]
  }
 ],
 "metadata": {
  "kernelspec": {
   "display_name": "Python 3.10.6 64-bit",
   "language": "python",
   "name": "python3"
  },
  "language_info": {
   "codemirror_mode": {
    "name": "ipython",
    "version": 3
   },
   "file_extension": ".py",
   "mimetype": "text/x-python",
   "name": "python",
   "nbconvert_exporter": "python",
   "pygments_lexer": "ipython3",
   "version": "3.10.6 (main, Nov 14 2022, 16:10:14) [GCC 11.3.0]"
  },
  "orig_nbformat": 4,
  "vscode": {
   "interpreter": {
    "hash": "916dbcbb3f70747c44a77c7bcd40155683ae19c65e1c03b4aa3499c5328201f1"
   }
  }
 },
 "nbformat": 4,
 "nbformat_minor": 2
}
