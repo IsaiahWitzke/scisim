{
 "cells": [
  {
   "cell_type": "code",
   "execution_count": 1,
   "metadata": {},
   "outputs": [],
   "source": [
    "import scipy\n",
    "import numpy as np"
   ]
  },
  {
   "cell_type": "code",
   "execution_count": 2,
   "metadata": {},
   "outputs": [],
   "source": [
    "A = np.array([\n",
    "    [2, 1, -1],\n",
    "    [1, 2, 1],\n",
    "    [-1, 1, 2]\n",
    "])\n",
    "evals, evects = np.linalg.eig(A)"
   ]
  },
  {
   "cell_type": "code",
   "execution_count": 3,
   "metadata": {},
   "outputs": [
    {
     "data": {
      "text/plain": [
       "array([[ 0.00000000e+00,  0.00000000e+00,  0.00000000e+00],\n",
       "       [ 5.76337239e-17,  3.00000000e+00, -1.80316523e-17],\n",
       "       [ 2.48422528e-18,  5.37383387e-17,  3.00000000e+00]])"
      ]
     },
     "execution_count": 3,
     "metadata": {},
     "output_type": "execute_result"
    }
   ],
   "source": [
    "def sqrt(x):\n",
    "    return x ** 0.5\n",
    "Q = np.array( [\n",
    "    [1/sqrt(3), 1/sqrt(2), -1/sqrt(6)],\n",
    "    [-1/sqrt(3), 1/sqrt(2), 1/sqrt(6)],\n",
    "    [1/sqrt(3), 0, 2/sqrt(6)]\n",
    "])\n",
    "\n",
    "# Q @ np.array([\n",
    "#     [0,0,0],\n",
    "#     [0,3,0],\n",
    "#     [0,0,3]\n",
    "# ]) @ Q.T\n",
    "Q.T @ A @ Q"
   ]
  },
  {
   "cell_type": "code",
   "execution_count": 4,
   "metadata": {},
   "outputs": [
    {
     "data": {
      "text/plain": [
       "array([[ 1.41421356,  1.        ,  0.50800051],\n",
       "       [ 0.70710678, -1.        ,  1.3970014 ],\n",
       "       [-0.70710678,  1.        ,  0.88900089]])"
      ]
     },
     "execution_count": 4,
     "metadata": {},
     "output_type": "execute_result"
    }
   ],
   "source": [
    "(3 ** 0.5) * evects"
   ]
  },
  {
   "cell_type": "code",
   "execution_count": 5,
   "metadata": {},
   "outputs": [
    {
     "data": {
      "text/plain": [
       "array([-3,  0,  3])"
      ]
     },
     "execution_count": 5,
     "metadata": {},
     "output_type": "execute_result"
    }
   ],
   "source": [
    "A @ np.array([-1,0,1])"
   ]
  },
  {
   "cell_type": "code",
   "execution_count": 6,
   "metadata": {},
   "outputs": [
    {
     "data": {
      "text/plain": [
       "array([[ 54,  27, -27],\n",
       "       [ 27,  54,  27],\n",
       "       [-27,  27,  54]])"
      ]
     },
     "execution_count": 6,
     "metadata": {},
     "output_type": "execute_result"
    }
   ],
   "source": [
    "9 * A @ A"
   ]
  },
  {
   "cell_type": "code",
   "execution_count": 7,
   "metadata": {},
   "outputs": [
    {
     "data": {
      "text/plain": [
       "array([[ 54,  27, -27],\n",
       "       [ 27,  54,  27],\n",
       "       [-27,  27,  54]])"
      ]
     },
     "execution_count": 7,
     "metadata": {},
     "output_type": "execute_result"
    }
   ],
   "source": [
    "A @ A @ A @ A"
   ]
  },
  {
   "cell_type": "code",
   "execution_count": 8,
   "metadata": {},
   "outputs": [
    {
     "data": {
      "text/plain": [
       "array([[ 2.23711432e-17,  0.00000000e+00, -8.16496581e-01],\n",
       "       [ 0.00000000e+00,  0.00000000e+00,  0.00000000e+00],\n",
       "       [-8.16496581e-01,  0.00000000e+00, -2.94613014e-18]])"
      ]
     },
     "execution_count": 8,
     "metadata": {},
     "output_type": "execute_result"
    }
   ],
   "source": [
    "col1 = 1/(2 ** 0.5) * np.array([1, 0, -1])\n",
    "col2 =  np.array([0, 1, 0])\n",
    "col3 = 1/(3 ** 0.5) * np.array([1, 1, 1])\n",
    "Q = np.array([\n",
    "    col1, col2, col3\n",
    "]).T\n",
    "\n",
    "Q.T @ np.array([\n",
    "    [-1, 0,0], [0,0,0], [0,0,1]\n",
    "]) @ Q"
   ]
  },
  {
   "cell_type": "code",
   "execution_count": 15,
   "metadata": {},
   "outputs": [
    {
     "data": {
      "text/plain": [
       "0.0"
      ]
     },
     "execution_count": 15,
     "metadata": {},
     "output_type": "execute_result"
    }
   ],
   "source": [
    "l = 0\n",
    "A = np.array([\n",
    "    [2 - l  , 1     , 0],\n",
    "    [1      , 1 - l , -1],\n",
    "    [0      , -1    , 2 - l]\n",
    "])\n",
    "\n",
    "g = (sqrt(2) / sqrt (3)) * np.array([-1,2,1])\n",
    "np.linalg.norm(g.T @ A @ g)"
   ]
  },
  {
   "cell_type": "code",
   "execution_count": 17,
   "metadata": {},
   "outputs": [
    {
     "data": {
      "text/plain": [
       "(array([ 6., -3.,  6.]),\n",
       " array([[ 0.74535599, -0.66666667,  0.17972129],\n",
       "        [-0.2981424 , -0.33333333, -0.9399256 ],\n",
       "        [-0.59628479, -0.66666667,  0.29024151]]))"
      ]
     },
     "execution_count": 17,
     "metadata": {},
     "output_type": "execute_result"
    }
   ],
   "source": [
    "l = 0\n",
    "A = np.array([\n",
    "    [ 2 - l ,-2     ,-4],\n",
    "    [-2     , 5 - l ,-2],\n",
    "    [-4     ,-2     , 2 - l]\n",
    "])\n",
    "np.linalg.eig(A)"
   ]
  },
  {
   "cell_type": "code",
   "execution_count": 29,
   "metadata": {},
   "outputs": [
    {
     "name": "stdout",
     "output_type": "stream",
     "text": [
      "[0.66666667 0.33333333 0.66666667]\n",
      "[0.66666667 0.33333333 0.66666667]\n"
     ]
    }
   ],
   "source": [
    "v1 = 1/3 * np.array([2, 1, 2])\n",
    "v2 = np.array([-1/sqrt(5), 2/sqrt(5), 0])\n",
    "v3 = np.array([-4/(3 * sqrt(5)), -2/(3 * sqrt(5)), 5 / (3 * sqrt(5))])\n",
    "print(v1)\n",
    "print(A @ v1 / -3)"
   ]
  },
  {
   "cell_type": "code",
   "execution_count": 169,
   "metadata": {},
   "outputs": [
    {
     "data": {
      "text/plain": [
       "array([[3, 1],\n",
       "       [1, 3]])"
      ]
     },
     "execution_count": 169,
     "metadata": {},
     "output_type": "execute_result"
    }
   ],
   "source": [
    "A = np.array([\n",
    "    [-1, 1],\n",
    "    [1, 1]\n",
    "])\n",
    "\n",
    "L = np.array([\n",
    "    [1, 0],\n",
    "    [0, 2]\n",
    "])\n",
    "\n",
    "x = np.array([1,0.5])\n",
    "\n",
    "(A @ L @ A.T)\n",
    "# x.T @ (A.T @ L @ A) @ x\n",
    "\n",
    "\n",
    "# np.linalg.eig(\n",
    "#     (A.T @ L @ A)\n",
    "# )\n",
    "(A.T @ L @ A)\n"
   ]
  },
  {
   "cell_type": "code",
   "execution_count": 173,
   "metadata": {},
   "outputs": [
    {
     "data": {
      "text/plain": [
       "-1"
      ]
     },
     "execution_count": 173,
     "metadata": {},
     "output_type": "execute_result"
    }
   ],
   "source": [
    "A = np.array([\n",
    "    [1, 0],\n",
    "    [3, 1]\n",
    "])\n",
    "\n",
    "x = np.array([1,-1])\n",
    "\n",
    "x.T @ A @ x"
   ]
  }
 ],
 "metadata": {
  "kernelspec": {
   "display_name": "Python 3.10.6 64-bit",
   "language": "python",
   "name": "python3"
  },
  "language_info": {
   "codemirror_mode": {
    "name": "ipython",
    "version": 3
   },
   "file_extension": ".py",
   "mimetype": "text/x-python",
   "name": "python",
   "nbconvert_exporter": "python",
   "pygments_lexer": "ipython3",
   "version": "3.10.6"
  },
  "orig_nbformat": 4,
  "vscode": {
   "interpreter": {
    "hash": "916dbcbb3f70747c44a77c7bcd40155683ae19c65e1c03b4aa3499c5328201f1"
   }
  }
 },
 "nbformat": 4,
 "nbformat_minor": 2
}
