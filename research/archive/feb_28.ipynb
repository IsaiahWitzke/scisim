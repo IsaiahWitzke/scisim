{
 "cells": [
  {
   "cell_type": "code",
   "execution_count": 1,
   "metadata": {},
   "outputs": [],
   "source": [
    "import numpy as np\n",
    "import pandas as pd\n",
    "import data_import\n",
    "from policy_iter import PolicyIteration"
   ]
  },
  {
   "cell_type": "code",
   "execution_count": 2,
   "metadata": {},
   "outputs": [
    {
     "data": {
      "text/plain": [
       "Index(['index', 'N', 'Q', 'v0', 'Minv', 'M', 'ipopt_sol', 'policy_sol',\n",
       "       'policy_converged', 'ipopt_converged', 'f_name', 'Q_size', 'Q_inv',\n",
       "       'Q_inv_min_val', 'Q_inv_num_lt_0', 'Q_det', 'eigenvalues', 'cond_num',\n",
       "       'cond_num_no_inf', 'Q_num_off_diag_entries', 'thetas', 'min_theta',\n",
       "       'rank', 'nullity', 'ipopt_delta_KE', 'ipopt_policy', 'b'],\n",
       "      dtype='object')"
      ]
     },
     "execution_count": 2,
     "metadata": {},
     "output_type": "execute_result"
    }
   ],
   "source": [
    "pd_data: pd.DataFrame = data_import.read_files_to_pd_dataframe(\n",
    "    # [f\"../outs/grid/itr_{i}.xml.out\" for i in range(5)]\n",
    "    [f\"../outs/general/K4_with_middle.xml.out\"]\n",
    ")\n",
    "pd_data.columns"
   ]
  },
  {
   "cell_type": "code",
   "execution_count": 23,
   "metadata": {},
   "outputs": [
    {
     "name": "stdout",
     "output_type": "stream",
     "text": [
      "[1.000 1.000 1.000 1.000 1.000 1.000 1.000 1.000 1.000 1.000]\n",
      "[0.000 0.000 0.000 1.000 0.000 0.000 1.000 0.000 1.000 1.000]\n"
     ]
    }
   ],
   "source": [
    "Q = pd_data['Q'][0]\n",
    "N = pd_data['N'][0]\n",
    "v0 = pd_data['v0'][0]\n",
    "b = -2 * N.T @ v0\n",
    "\n",
    "np.set_printoptions(floatmode=\"fixed\", linewidth=1000, edgeitems=100)\n",
    "\n",
    "pi1 = PolicyIteration(Q, b, initial_policy = np.array([0, 0, 0, 1, 0, 0, 1, 0, 1, 1]))\n",
    "pi1.flow()\n",
    "\n",
    "pi2 = PolicyIteration(Q, b, initial_policy = np.array([0, 1, 0, 0, 0, 1, 0, 0, 0, 0]))\n",
    "pi2.flow()\n",
    "\n",
    "pi3 = PolicyIteration(Q, b, initial_policy = np.array([1, 0, 1, 0, 1, 0, 0, 1, 0, 0]))\n",
    "pi3.flow()\n",
    "\n",
    "\n",
    "pi4 = PolicyIteration(Q, b, initial_policy = np.ones(10))\n",
    "\n",
    "t = 2\n",
    "value_1_2 = t * pi1.value + (1 - t) * pi2.value\n",
    "pi4.value = value_1_2.copy()\n",
    "print(pi4.policy)\n",
    "pi4._update_policy()\n",
    "print(pi4.policy)\n"
   ]
  }
 ],
 "metadata": {
  "kernelspec": {
   "display_name": "Python 3",
   "language": "python",
   "name": "python3"
  },
  "language_info": {
   "codemirror_mode": {
    "name": "ipython",
    "version": 3
   },
   "file_extension": ".py",
   "mimetype": "text/x-python",
   "name": "python",
   "nbconvert_exporter": "python",
   "pygments_lexer": "ipython3",
   "version": "3.10.6"
  },
  "orig_nbformat": 4,
  "vscode": {
   "interpreter": {
    "hash": "916dbcbb3f70747c44a77c7bcd40155683ae19c65e1c03b4aa3499c5328201f1"
   }
  }
 },
 "nbformat": 4,
 "nbformat_minor": 2
}
