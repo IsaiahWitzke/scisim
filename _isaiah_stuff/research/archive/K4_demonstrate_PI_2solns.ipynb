{
 "cells": [
  {
   "cell_type": "code",
   "execution_count": 1,
   "metadata": {},
   "outputs": [],
   "source": [
    "import scipy\n",
    "import numpy as np\n",
    "import data_import"
   ]
  },
  {
   "cell_type": "code",
   "execution_count": 21,
   "metadata": {},
   "outputs": [],
   "source": [
    "# another PI implementation\n",
    "\n",
    "def get_policy(Q, x, b, policy):\n",
    "    \"\"\"\n",
    "    updates policy to the next policy,\n",
    "    returns error\n",
    "    \"\"\"\n",
    "    err2 = 0\n",
    "    y = np.dot(Q, x) + b\n",
    "    for i in range(len(x)):\n",
    "        choice = 0.0\n",
    "        if y[i] < x[i]:\n",
    "            choice = 1\n",
    "        err2 += min(x[i], y[i]) ** 2    # x should be > 0, while y should be as close to 0 as possible\n",
    "\n",
    "        policy[i,i] = choice\n",
    "    return err2 ** 0.5\n",
    "\n",
    "def update_value(policy, Q, b, use_cg = True):\n",
    "    \"\"\"\n",
    "    returns the next x given the policy\n",
    "    \"\"\"\n",
    "    I = np.eye(len(b))\n",
    "    A = np.dot(\n",
    "            np.dot(\n",
    "                policy,\n",
    "                Q\n",
    "            ),\n",
    "            policy\n",
    "        ) + I - policy\n",
    "    rhs = -np.dot(policy, b) \n",
    "    lst_sqr_soln = np.linalg.lstsq(A , rhs)[0]\n",
    "    cg_soln = scipy.sparse.linalg.cg(A , rhs , tol=1e-12)[0]\n",
    "    if use_cg:\n",
    "        return cg_soln\n",
    "    else:\n",
    "        return lst_sqr_soln\n",
    "\n",
    "\n",
    "def flow(Q, N, v0, initial_guess = np.array([]), max_itrs = 100, m_tol = 1e-09, CoR = 1, use_cg = True):\n",
    "    \"\"\"\n",
    "    does policy iteration\n",
    "    returns a bool/vector pair: (converged, x)\n",
    "    \"\"\"\n",
    "    b = np.dot(N.T, (1 + CoR) * v0)\n",
    "    x = np.zeros(b.shape[0])\n",
    "\n",
    "    if len(initial_guess) > 0:\n",
    "        x = initial_guess\n",
    "\n",
    "    policy = np.zeros((b.shape[0], b.shape[0]))\n",
    "    error = 0.0\n",
    "\n",
    "    for n_iter in range(max_itrs):\n",
    "        error = get_policy(Q, x, b, policy)\n",
    "        if error <= m_tol:\n",
    "            return (True, x)\n",
    "        x = update_value(policy, Q, b, use_cg)\n",
    "    \n",
    "    return (False, x)\n",
    "\n"
   ]
  },
  {
   "cell_type": "code",
   "execution_count": 3,
   "metadata": {},
   "outputs": [],
   "source": [
    "pd_data = data_import.read_file_to_pd_dataframe(\"../K4.out\")\n",
    "Q = pd_data['Q'][0]\n",
    "N = pd_data['N'][0]\n",
    "v0 = pd_data['v0'][0]"
   ]
  },
  {
   "cell_type": "code",
   "execution_count": 23,
   "metadata": {},
   "outputs": [
    {
     "name": "stderr",
     "output_type": "stream",
     "text": [
      "/tmp/ipykernel_206599/990731715.py:32: FutureWarning: `rcond` parameter will change to the default of machine precision times ``max(M, N)`` where M and N are the input matrix dimensions.\n",
      "To use the future default and silence this warning we advise to pass `rcond=None`, to keep using the old, explicitly pass `rcond=-1`.\n",
      "  lst_sqr_soln = np.linalg.lstsq(A , rhs)[0]\n"
     ]
    },
    {
     "data": {
      "text/plain": [
       "(True,\n",
       " array([ 2.00000000e+00, -7.66542385e-11,  2.00000000e+00,  2.00000000e+00,\n",
       "        -7.66544606e-11,  2.00000000e+00]))"
      ]
     },
     "execution_count": 23,
     "metadata": {},
     "output_type": "execute_result"
    }
   ],
   "source": [
    "flow(Q, N, v0, initial_guess=np.array([1,0,1,1,0,1]))"
   ]
  },
  {
   "cell_type": "code",
   "execution_count": 25,
   "metadata": {},
   "outputs": [
    {
     "name": "stderr",
     "output_type": "stream",
     "text": [
      "/tmp/ipykernel_206599/990731715.py:32: FutureWarning: `rcond` parameter will change to the default of machine precision times ``max(M, N)`` where M and N are the input matrix dimensions.\n",
      "To use the future default and silence this warning we advise to pass `rcond=None`, to keep using the old, explicitly pass `rcond=-1`.\n",
      "  lst_sqr_soln = np.linalg.lstsq(A , rhs)[0]\n"
     ]
    },
    {
     "data": {
      "text/plain": [
       "(True, array([0.      , 2.828428, 0.      , 0.      , 2.828428, 0.      ]))"
      ]
     },
     "execution_count": 25,
     "metadata": {},
     "output_type": "execute_result"
    }
   ],
   "source": [
    "flow(Q, N, v0, initial_guess=np.array([0,5,0,0,5,0]))"
   ]
  }
 ],
 "metadata": {
  "kernelspec": {
   "display_name": "Python 3.10.6 64-bit",
   "language": "python",
   "name": "python3"
  },
  "language_info": {
   "codemirror_mode": {
    "name": "ipython",
    "version": 3
   },
   "file_extension": ".py",
   "mimetype": "text/x-python",
   "name": "python",
   "nbconvert_exporter": "python",
   "pygments_lexer": "ipython3",
   "version": "3.10.6"
  },
  "orig_nbformat": 4,
  "vscode": {
   "interpreter": {
    "hash": "916dbcbb3f70747c44a77c7bcd40155683ae19c65e1c03b4aa3499c5328201f1"
   }
  }
 },
 "nbformat": 4,
 "nbformat_minor": 2
}
