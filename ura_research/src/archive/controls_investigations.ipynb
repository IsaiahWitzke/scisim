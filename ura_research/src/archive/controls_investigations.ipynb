{
 "cells": [
  {
   "cell_type": "code",
   "execution_count": 7,
   "metadata": {},
   "outputs": [],
   "source": [
    "import numpy as np\n",
    "import scipy\n",
    "import sympy\n",
    "import data_import\n",
    "import pandas as pd"
   ]
  },
  {
   "cell_type": "markdown",
   "metadata": {},
   "source": [
    "# Data Import & Pre-processing"
   ]
  },
  {
   "cell_type": "code",
   "execution_count": 8,
   "metadata": {},
   "outputs": [],
   "source": [
    "pd_data = data_import.read_files_to_pd_dataframe(\n",
    "    [f\"../outs/grid/itr_{i}.xml.out\" for i in range(500)]\n",
    ")"
   ]
  },
  {
   "cell_type": "markdown",
   "metadata": {},
   "source": [
    "# Policy Iteration Algo"
   ]
  },
  {
   "cell_type": "code",
   "execution_count": 9,
   "metadata": {},
   "outputs": [],
   "source": [
    "\n",
    "def get_policy(Q, x, b):\n",
    "    \"\"\"\n",
    "    updates policy to the next policy,\n",
    "    returns error\n",
    "    \"\"\"\n",
    "    policy = []\n",
    "    err2 = 0\n",
    "    y = np.dot(Q, x) + b\n",
    "    for i in range(len(x)):\n",
    "        if y[i] < x[i]:\n",
    "            policy.append(i)\n",
    "        err2 += min(x[i], y[i]) ** 2    # x should be > 0, while y should be as close to 0 as possible\n",
    "    return err2 ** 0.5, policy\n",
    "\n",
    "\n",
    "def update_value(policy, Q, b, use_cg = True):\n",
    "    \"\"\"\n",
    "    returns the next x given the policy\n",
    "    \"\"\"\n",
    "    I = np.eye(len(b))\n",
    "    policy_matrix = np.zeros((b.shape[0], b.shape[0]))\n",
    "    for p in policy:\n",
    "        policy_matrix[p,p] = 1\n",
    "    A = np.dot(\n",
    "            np.dot(\n",
    "                policy_matrix,\n",
    "                Q\n",
    "            ),\n",
    "            policy_matrix\n",
    "        ) + I - policy_matrix\n",
    "    rhs = -np.dot(policy_matrix, b) \n",
    "    lst_sqr_soln = np.linalg.lstsq(A , rhs)[0]\n",
    "    cg_soln = scipy.sparse.linalg.cg(A , rhs , tol=1e-12)[0]\n",
    "    if use_cg:\n",
    "        return cg_soln\n",
    "    else:\n",
    "        return lst_sqr_soln\n",
    "\n",
    "\n",
    "def flow(Q, N, v0, correct_policy, max_itrs = 100, m_tol = 1e-09, CoR = 1, use_cg = True):\n",
    "    \"\"\"\n",
    "    does policy iteration\n",
    "    returns a bool/vector pair: (converged, x)\n",
    "    \"\"\"\n",
    "    b = np.dot(N.T, (1 + CoR) * v0)\n",
    "    x = np.zeros(b.shape[0])\n",
    "    policy = []\n",
    "    error = 0.0\n",
    "\n",
    "    found_correct_control = False\n",
    "\n",
    "    for n_iter in range(max_itrs):\n",
    "\n",
    "        # have we stumbled across the correct policy/control?\n",
    "        if correct_policy == policy:\n",
    "            found_correct_control = True\n",
    "\n",
    "        error, policy = get_policy(Q, x, b)\n",
    "        if error <= m_tol:\n",
    "            return (True, x, found_correct_control)\n",
    "\n",
    "        x = update_value(policy, Q, b, use_cg)\n",
    "    \n",
    "    return (False, x, found_correct_control)\n",
    "\n"
   ]
  },
  {
   "cell_type": "markdown",
   "metadata": {},
   "source": [
    "# Calculate the \"correct\" control set"
   ]
  },
  {
   "cell_type": "code",
   "execution_count": 10,
   "metadata": {},
   "outputs": [
    {
     "data": {
      "text/plain": [
       "0                      [0, 1, 6, 7, 8, 9, 11, 12]\n",
       "1        [0, 1, 2, 3, 4, 6, 7, 9, 11, 12, 13, 14]\n",
       "2                            [0, 2, 3, 5, 10, 11]\n",
       "3                         [0, 1, 2, 3, 9, 14, 15]\n",
       "4                       [0, 2, 4, 5, 6, 7, 9, 14]\n",
       "                          ...                    \n",
       "495                      [0, 2, 3, 7, 10, 11, 12]\n",
       "496                 [0, 1, 3, 10, 11, 13, 14, 15]\n",
       "497                [0, 1, 2, 4, 6, 7, 15, 17, 20]\n",
       "498                  [0, 4, 6, 8, 14, 16, 17, 19]\n",
       "499    [0, 2, 3, 5, 7, 8, 15, 16, 17, 18, 19, 22]\n",
       "Name: correct_control, Length: 500, dtype: object"
      ]
     },
     "execution_count": 10,
     "metadata": {},
     "output_type": "execute_result"
    }
   ],
   "source": [
    "def get_ipopt_control(x):\n",
    "    # anything less than 1e-6 is counted as a 0 since thats the tolerance we set in the xml files\n",
    "    return [i for i in range(len(x)) if x[i] > 1e-6]\n",
    "\n",
    "pd_data['correct_control'] = [get_ipopt_control(x) for x in pd_data['ipopt_sol']]\n",
    "pd_data['correct_control']"
   ]
  },
  {
   "cell_type": "code",
   "execution_count": 12,
   "metadata": {},
   "outputs": [
    {
     "name": "stderr",
     "output_type": "stream",
     "text": [
      "/tmp/ipykernel_238053/348763866.py:32: FutureWarning: `rcond` parameter will change to the default of machine precision times ``max(M, N)`` where M and N are the input matrix dimensions.\n",
      "To use the future default and silence this warning we advise to pass `rcond=None`, to keep using the old, explicitly pass `rcond=-1`.\n",
      "  lst_sqr_soln = np.linalg.lstsq(A , rhs)[0]\n"
     ]
    },
    {
     "name": "stdout",
     "output_type": "stream",
     "text": [
      "False\n",
      "True\n",
      "False\n",
      "False\n",
      "False\n",
      "False\n",
      "False\n",
      "False\n",
      "False\n",
      "False\n",
      "False\n",
      "False\n",
      "False\n",
      "False\n",
      "False\n",
      "False\n",
      "False\n",
      "False\n",
      "False\n",
      "False\n",
      "False\n",
      "False\n",
      "False\n",
      "False\n",
      "False\n",
      "False\n",
      "False\n",
      "False\n",
      "False\n",
      "True\n",
      "True\n",
      "False\n",
      "False\n",
      "True\n",
      "False\n",
      "False\n",
      "False\n",
      "False\n",
      "False\n",
      "True\n",
      "False\n",
      "False\n",
      "False\n",
      "True\n",
      "False\n",
      "False\n",
      "False\n",
      "False\n",
      "False\n",
      "False\n",
      "False\n",
      "False\n",
      "False\n",
      "False\n",
      "False\n",
      "False\n",
      "False\n",
      "False\n",
      "False\n",
      "False\n",
      "False\n",
      "False\n",
      "False\n",
      "False\n",
      "False\n",
      "False\n",
      "False\n",
      "False\n",
      "False\n"
     ]
    }
   ],
   "source": [
    "for i in range(500):\n",
    "    Q = pd_data['Q'][i]\n",
    "    N = pd_data['N'][i]\n",
    "    v0 = pd_data['v0'][i]\n",
    "    correct_control = pd_data['correct_control'][i]\n",
    "\n",
    "    converged, l, found_correct_control = flow(Q, N, v0, correct_control)\n",
    "    if not converged:\n",
    "        print(found_correct_control)"
   ]
  }
 ],
 "metadata": {
  "kernelspec": {
   "display_name": "Python 3.10.6 64-bit",
   "language": "python",
   "name": "python3"
  },
  "language_info": {
   "codemirror_mode": {
    "name": "ipython",
    "version": 3
   },
   "file_extension": ".py",
   "mimetype": "text/x-python",
   "name": "python",
   "nbconvert_exporter": "python",
   "pygments_lexer": "ipython3",
   "version": "3.10.6 (main, Nov 14 2022, 16:10:14) [GCC 11.3.0]"
  },
  "orig_nbformat": 4,
  "vscode": {
   "interpreter": {
    "hash": "916dbcbb3f70747c44a77c7bcd40155683ae19c65e1c03b4aa3499c5328201f1"
   }
  }
 },
 "nbformat": 4,
 "nbformat_minor": 2
}
