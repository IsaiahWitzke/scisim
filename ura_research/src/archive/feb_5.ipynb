{
 "cells": [
  {
   "cell_type": "code",
   "execution_count": 1,
   "metadata": {},
   "outputs": [],
   "source": [
    "import data_import\n",
    "from value_iter import ValueIteration\n",
    "from solver_base import SolverApplier\n",
    "import numpy as np\n",
    "import pandas as pd"
   ]
  },
  {
   "cell_type": "code",
   "execution_count": 2,
   "metadata": {},
   "outputs": [],
   "source": [
    "pd_data = data_import.read_files_to_pd_dataframe(\n",
    "    # [f\"../outs/grid/itr_{i}.xml.out\" for i in range(5)]\n",
    "    [f\"../K4.out\"]\n",
    ")\n",
    "pd_data['value'] = pd_data.apply(lambda r: 0.0, axis=1)\n",
    "pd_data['converged'] = pd_data.apply(lambda r: False, axis=1)"
   ]
  },
  {
   "cell_type": "code",
   "execution_count": 3,
   "metadata": {},
   "outputs": [
    {
     "name": "stdout",
     "output_type": "stream",
     "text": [
      "CONVERGED\n",
      "[11.313710249492516, 5.656855124746258, 2.475592001172089e-06]\n"
     ]
    }
   ],
   "source": [
    "value_iter_runner = SolverApplier(ValueIteration, pd_data)\n",
    "value_iter_runner.run()\n",
    "print(value_iter_runner.solver_inst.intermediate_objective)"
   ]
  },
  {
   "cell_type": "code",
   "execution_count": 4,
   "metadata": {},
   "outputs": [
    {
     "ename": "NameError",
     "evalue": "name 'condensed_data' is not defined",
     "output_type": "error",
     "traceback": [
      "\u001b[0;31m---------------------------------------------------------------------------\u001b[0m",
      "\u001b[0;31mNameError\u001b[0m                                 Traceback (most recent call last)",
      "Cell \u001b[0;32mIn [4], line 1\u001b[0m\n\u001b[0;32m----> 1\u001b[0m condensed_data\n",
      "\u001b[0;31mNameError\u001b[0m: name 'condensed_data' is not defined"
     ]
    }
   ],
   "source": [
    "condensed_data"
   ]
  }
 ],
 "metadata": {
  "kernelspec": {
   "display_name": "Python 3",
   "language": "python",
   "name": "python3"
  },
  "language_info": {
   "codemirror_mode": {
    "name": "ipython",
    "version": 3
   },
   "file_extension": ".py",
   "mimetype": "text/x-python",
   "name": "python",
   "nbconvert_exporter": "python",
   "pygments_lexer": "ipython3",
   "version": "3.10.6"
  },
  "orig_nbformat": 4,
  "vscode": {
   "interpreter": {
    "hash": "916dbcbb3f70747c44a77c7bcd40155683ae19c65e1c03b4aa3499c5328201f1"
   }
  }
 },
 "nbformat": 4,
 "nbformat_minor": 2
}
