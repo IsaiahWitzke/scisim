{
 "cells": [
  {
   "cell_type": "code",
   "execution_count": 1,
   "metadata": {},
   "outputs": [],
   "source": [
    "import numpy as np\n",
    "import scipy\n",
    "import sympy\n",
    "import data_import"
   ]
  },
  {
   "cell_type": "code",
   "execution_count": 6,
   "metadata": {},
   "outputs": [],
   "source": [
    "pd_data = data_import.read_files_to_pd_dataframe(\n",
    "    [f\"../outs/grid/itr_{i}.xml.out\" for i in range(500)]\n",
    "    , tol=1e-06\n",
    ")"
   ]
  },
  {
   "cell_type": "code",
   "execution_count": 7,
   "metadata": {},
   "outputs": [
    {
     "data": {
      "text/plain": [
       "True"
      ]
     },
     "execution_count": 7,
     "metadata": {},
     "output_type": "execute_result"
    }
   ],
   "source": [
    "np.alltrue(np.array([1, 2, 0]) >= 0)"
   ]
  },
  {
   "cell_type": "code",
   "execution_count": 8,
   "metadata": {},
   "outputs": [],
   "source": [
    "def eval_lcp_soln(Q, b, x, tol = 1e-05):\n",
    "    obj_gt_0 = (Q @ x + b >= -tol).all()\n",
    "    x_gt_0 = (x >= 0).all()\n",
    "    complementarity = (-tol <= x.T @ (Q @ x + b) <= tol)\n",
    "\n",
    "    return obj_gt_0 and x_gt_0 and complementarity\n",
    "\n",
    "def update_value(policy, Q, b, use_cg = True):\n",
    "    \"\"\"\n",
    "    returns the next x given the policy\n",
    "    \"\"\"\n",
    "    I = np.eye(len(b))\n",
    "    policy_matrix = np.zeros((b.shape[0], b.shape[0]))\n",
    "    for p in policy:\n",
    "        policy_matrix[p,p] = 1\n",
    "    A = np.dot(\n",
    "            np.dot(\n",
    "                policy_matrix,\n",
    "                Q\n",
    "            ),\n",
    "            policy_matrix\n",
    "        ) + I - policy_matrix\n",
    "    rhs = -np.dot(policy_matrix, b) \n",
    "    lst_sqr_soln = np.linalg.lstsq(A , rhs)[0]\n",
    "    cg_soln = scipy.sparse.linalg.cg(A , rhs , tol=1e-12)[0]\n",
    "    if use_cg:\n",
    "        return cg_soln\n",
    "    else:\n",
    "        return lst_sqr_soln\n",
    "\n",
    "def get_Q(pd_data, i):\n",
    "    return pd_data['Q'][i]\n",
    "\n",
    "def get_b(pd_data, i):\n",
    "    CoR = 1\n",
    "    N = pd_data['N'][i]\n",
    "    v0 = pd_data['v0'][i]\n",
    "\n",
    "    return (1 + CoR) * N.T @ v0\n"
   ]
  },
  {
   "cell_type": "code",
   "execution_count": 9,
   "metadata": {},
   "outputs": [
    {
     "name": "stderr",
     "output_type": "stream",
     "text": [
      "/tmp/ipykernel_10052/3865475345.py:24: FutureWarning: `rcond` parameter will change to the default of machine precision times ``max(M, N)`` where M and N are the input matrix dimensions.\n",
      "To use the future default and silence this warning we advise to pass `rcond=None`, to keep using the old, explicitly pass `rcond=-1`.\n",
      "  lst_sqr_soln = np.linalg.lstsq(A , rhs)[0]\n"
     ]
    },
    {
     "name": "stdout",
     "output_type": "stream",
     "text": [
      "410\n",
      "90\n"
     ]
    }
   ],
   "source": [
    "corrects = []\n",
    "for i in range(len(pd_data)):\n",
    "    Q = get_Q(pd_data, i)\n",
    "    b = get_b(pd_data, i)\n",
    "    policy = pd_data['ipopt_policy'][i]\n",
    "\n",
    "    inner_solver_sol = update_value(policy, Q, b)\n",
    "    corrects.append(eval_lcp_soln(Q, b, inner_solver_sol))\n",
    "\n",
    "num_corrects = sum(corrects)\n",
    "num_incorrect = len(corrects) - num_corrects\n",
    "print(num_corrects)\n",
    "print(num_incorrect)\n",
    "\n",
    "# takeaway: about 20% of the time, using ipopt's solution to reverse-engineer a \"policy\"\n",
    "# will not lead to a correct LCP solution by the inner solver"
   ]
  },
  {
   "cell_type": "code",
   "execution_count": 11,
   "metadata": {},
   "outputs": [],
   "source": [
    "correct_policy_doesnt_work_cases = [i for i in range(len(pd_data)) if corrects[i]]\n",
    "\n",
    "for i in correct_policy_doesnt_work_cases:"
   ]
  },
  {
   "cell_type": "code",
   "execution_count": 10,
   "metadata": {},
   "outputs": [
    {
     "name": "stdout",
     "output_type": "stream",
     "text": [
      "34\n",
      "466\n"
     ]
    }
   ],
   "source": [
    "# how many ipopt solns actually satisfy the LCP conditions?\n",
    "corrects = []\n",
    "for i in range(len(pd_data)):\n",
    "    Q = get_Q(pd_data, i)\n",
    "    b = get_b(pd_data, i)\n",
    "    ipopt_sol = pd_data['ipopt_sol'][i]\n",
    "    corrects.append(eval_lcp_soln(Q, b, ipopt_sol))\n",
    "\n",
    "num_corrects = sum(corrects)\n",
    "num_incorrect = len(corrects) - num_corrects\n",
    "print(num_corrects)\n",
    "print(num_incorrect)\n",
    "\n",
    "# takeaway: the vast majority of the time, the LCP solution is not being found by IPOPT,\n",
    "# instead ipopt is just able to optimize the \"primal\"?"
   ]
  }
 ],
 "metadata": {
  "kernelspec": {
   "display_name": "Python 3",
   "language": "python",
   "name": "python3"
  },
  "language_info": {
   "codemirror_mode": {
    "name": "ipython",
    "version": 3
   },
   "file_extension": ".py",
   "mimetype": "text/x-python",
   "name": "python",
   "nbconvert_exporter": "python",
   "pygments_lexer": "ipython3",
   "version": "3.10.6 (main, Nov 14 2022, 16:10:14) [GCC 11.3.0]"
  },
  "orig_nbformat": 4,
  "vscode": {
   "interpreter": {
    "hash": "916dbcbb3f70747c44a77c7bcd40155683ae19c65e1c03b4aa3499c5328201f1"
   }
  }
 },
 "nbformat": 4,
 "nbformat_minor": 2
}
