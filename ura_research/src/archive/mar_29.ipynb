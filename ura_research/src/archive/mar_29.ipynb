{
 "cells": [
  {
   "cell_type": "code",
   "execution_count": 1,
   "metadata": {},
   "outputs": [],
   "source": [
    "import data_import\n",
    "import pandas as pd"
   ]
  },
  {
   "cell_type": "code",
   "execution_count": 2,
   "metadata": {},
   "outputs": [],
   "source": [
    "pd_data_5: pd.DataFrame = data_import.read_files_to_pd_dataframe(\n",
    "    [f\"../outs/5_by_5_grid/itr_{i}.xml.out\" for i in range(50)]\n",
    "    # [f\"../outs/general/K4_with_middle.xml.out\"]\n",
    ")\n",
    "pd_data_6: pd.DataFrame = data_import.read_files_to_pd_dataframe(\n",
    "    [f\"../outs/6_by_6_grid/itr_{i}.xml.out\" for i in range(50)]\n",
    "    # [f\"../outs/general/K4_with_middle.xml.out\"]\n",
    ")\n",
    "pd_data_7: pd.DataFrame = data_import.read_files_to_pd_dataframe(\n",
    "    [f\"../outs/7_by_7_grid/itr_{i}.xml.out\" for i in range(50)]\n",
    "    # [f\"../outs/general/K4_with_middle.xml.out\"]\n",
    ")\n",
    "pd_data_8: pd.DataFrame = data_import.read_files_to_pd_dataframe(\n",
    "    [f\"../outs/8_by_8_grid/itr_{i}.xml.out\" for i in range(50)]\n",
    "    # [f\"../outs/general/K4_with_middle.xml.out\"]\n",
    ")"
   ]
  },
  {
   "cell_type": "code",
   "execution_count": 3,
   "metadata": {},
   "outputs": [
    {
     "name": "stdout",
     "output_type": "stream",
     "text": [
      "CONVERGENCE RATES (100 itrs)\n",
      "\n",
      "5x5:\n",
      "pi:      35 (70.0%)\n",
      "pi v2:   46 (92.0%)\n",
      "\n",
      "6x6:\n",
      "pi:      26 (52.0%)\n",
      "pi v2:   34 (68.0%)\n",
      "\n",
      "7x7:\n",
      "pi:      16 (32.0%)\n",
      "pi v2:   21 (42.0%)\n",
      "\n",
      "8x8:\n",
      "pi:      8 (16.0%)\n",
      "pi v2:   13 (26.0%)\n",
      "\n"
     ]
    }
   ],
   "source": [
    "print(\"CONVERGENCE RATES (100 itrs)\\n\")\n",
    "for df, size in [(pd_data_5, 5), (pd_data_6, 6), (pd_data_7, 7), (pd_data_8, 8)]:\n",
    "    total = len(df['policy_v2_converged'])\n",
    "    print(f\"{size}x{size}:\")\n",
    "    print(f\"pi:      {sum(df['policy_converged'])} ({100 * sum(df['policy_converged'])/total}%)\")\n",
    "    print(f\"pi v2:   {sum(df['policy_v2_converged'])} ({100 * sum(df['policy_v2_converged'])/total}%)\")\n",
    "    print()"
   ]
  },
  {
   "cell_type": "code",
   "execution_count": 8,
   "metadata": {},
   "outputs": [
    {
     "name": "stdout",
     "output_type": "stream",
     "text": [
      "AVERAGE TIMES (max: 100 itrs)\n",
      "\n",
      "5x5:\n",
      "ipopt:   0.01741728sec 100.0%\n",
      "pi v1:   0.09679744sec 555.7552040272649%\n",
      "pi v2:   0.0654504sec 375.77853717687265%\n",
      "\n",
      "6x6:\n",
      "ipopt:   0.022265200000000002sec 100.0%\n",
      "pi v1:   0.23807296sec 1069.2603704435621%\n",
      "pi v2:   0.21013006sec 943.760038086341%\n",
      "\n",
      "7x7:\n",
      "ipopt:   0.024887919999999997sec 100.0%\n",
      "pi v1:   0.6318222sec 2538.6701660886083%\n",
      "pi v2:   0.5150499000000001sec 2069.4774814448137%\n",
      "\n",
      "8x8:\n",
      "ipopt:   0.03184336sec 100.0%\n",
      "pi v1:   1.37720976sec 4324.951135809789%\n",
      "pi v2:   1.23464934sec 3877.258367207481%\n",
      "\n"
     ]
    }
   ],
   "source": [
    "print(\"MEAN TIMES (max: 100 itrs)\\n\")\n",
    "for df, size in [(pd_data_5, 5), (pd_data_6, 6), (pd_data_7, 7), (pd_data_8, 8)]:\n",
    "    print(f\"{size}x{size}:\")\n",
    "    print(f\"ipopt:   {df['ipopt_time'].mean() / 1000000}sec {100 * df['ipopt_time'].mean()/df['ipopt_time'].mean()}%\")\n",
    "    print(f\"pi v1:   {df['policy_time'].mean() / 1000000}sec {100 * df['policy_time'].mean()/df['ipopt_time'].mean()}%\")\n",
    "    print(f\"pi v2:   {df['policy_v2_time'].mean()/ 1000000}sec {100 * df['policy_v2_time'].mean()/df['ipopt_time'].mean()}%\")\n",
    "    print()"
   ]
  },
  {
   "cell_type": "code",
   "execution_count": 9,
   "metadata": {},
   "outputs": [
    {
     "name": "stdout",
     "output_type": "stream",
     "text": [
      "MEDIAN TIMES (max: 100 itrs)\n",
      "\n",
      "5x5:\n",
      "ipopt:   0.017131sec 100.0%\n",
      "pi v1:   0.0557085sec 325.1911738952776%\n",
      "pi v2:   0.026819sec 156.5524487770708%\n",
      "\n",
      "6x6:\n",
      "ipopt:   0.0228745sec 100.0%\n",
      "pi v1:   0.214805sec 939.0587772410325%\n",
      "pi v2:   0.121355sec 530.525257382675%\n",
      "\n",
      "7x7:\n",
      "ipopt:   0.0247775sec 100.0%\n",
      "pi v1:   0.66702sec 2692.0391484209463%\n",
      "pi v2:   0.5664205sec 2286.0276460498435%\n",
      "\n",
      "8x8:\n",
      "ipopt:   0.031662sec 100.0%\n",
      "pi v1:   1.4243895sec 4498.735076748152%\n",
      "pi v2:   1.2519955sec 3954.2527319815554%\n",
      "\n"
     ]
    }
   ],
   "source": [
    "print(\"MEDIAN TIMES (max: 100 itrs)\\n\")\n",
    "for df, size in [(pd_data_5, 5), (pd_data_6, 6), (pd_data_7, 7), (pd_data_8, 8)]:\n",
    "    print(f\"{size}x{size}:\")\n",
    "    print(f\"ipopt:   {df['ipopt_time'].median() / 1000000}sec {100 * df['ipopt_time'].median()/df['ipopt_time'].median()}%\")\n",
    "    print(f\"pi v1:   {df['policy_time'].median() / 1000000}sec {100 * df['policy_time'].median()/df['ipopt_time'].median()}%\")\n",
    "    print(f\"pi v2:   {df['policy_v2_time'].median()/ 1000000}sec {100 * df['policy_v2_time'].median()/df['ipopt_time'].median()}%\")\n",
    "    print()"
   ]
  }
 ],
 "metadata": {
  "kernelspec": {
   "display_name": "Python 3",
   "language": "python",
   "name": "python3"
  },
  "language_info": {
   "codemirror_mode": {
    "name": "ipython",
    "version": 3
   },
   "file_extension": ".py",
   "mimetype": "text/x-python",
   "name": "python",
   "nbconvert_exporter": "python",
   "pygments_lexer": "ipython3",
   "version": "3.10.6"
  },
  "orig_nbformat": 4,
  "vscode": {
   "interpreter": {
    "hash": "916dbcbb3f70747c44a77c7bcd40155683ae19c65e1c03b4aa3499c5328201f1"
   }
  }
 },
 "nbformat": 4,
 "nbformat_minor": 2
}
