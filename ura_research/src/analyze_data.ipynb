{
 "cells": [
  {
   "cell_type": "code",
   "execution_count": 5,
   "metadata": {},
   "outputs": [],
   "source": [
    "from util.data_import import read_file_to_pd_dataframe"
   ]
  },
  {
   "cell_type": "code",
   "execution_count": 6,
   "metadata": {},
   "outputs": [
    {
     "data": {
      "text/html": [
       "<div>\n",
       "<style scoped>\n",
       "    .dataframe tbody tr th:only-of-type {\n",
       "        vertical-align: middle;\n",
       "    }\n",
       "\n",
       "    .dataframe tbody tr th {\n",
       "        vertical-align: top;\n",
       "    }\n",
       "\n",
       "    .dataframe thead th {\n",
       "        text-align: right;\n",
       "    }\n",
       "</style>\n",
       "<table border=\"1\" class=\"dataframe\">\n",
       "  <thead>\n",
       "    <tr style=\"text-align: right;\">\n",
       "      <th></th>\n",
       "      <th>N</th>\n",
       "      <th>Q</th>\n",
       "      <th>v0</th>\n",
       "      <th>Minv</th>\n",
       "      <th>ipopt_sol</th>\n",
       "      <th>policy_sol</th>\n",
       "      <th>ipopt_converged</th>\n",
       "      <th>policy_converged</th>\n",
       "      <th>policy_v2_converged</th>\n",
       "      <th>ipopt_time</th>\n",
       "      <th>policy_time</th>\n",
       "      <th>policy_v2_time</th>\n",
       "      <th>f_name</th>\n",
       "      <th>b</th>\n",
       "    </tr>\n",
       "  </thead>\n",
       "  <tbody>\n",
       "    <tr>\n",
       "      <th>0</th>\n",
       "      <td>[-1.0, 0.0, 0.0, 1.0, 0.0, 0.0]</td>\n",
       "      <td>[2.0]</td>\n",
       "      <td>[0.5, 0.0, 0.0, -0.5, 0.0, 0.0]</td>\n",
       "      <td>[[1.0, 0.0, 0.0, 0.0, 0.0, 0.0], [0.0, 1.0, 0....</td>\n",
       "      <td>[1.0]</td>\n",
       "      <td>[1.0]</td>\n",
       "      <td>True</td>\n",
       "      <td>True</td>\n",
       "      <td>False</td>\n",
       "      <td>2</td>\n",
       "      <td>0</td>\n",
       "      <td>0</td>\n",
       "      <td>./../simulaiton_outputs/2_balls_output.json</td>\n",
       "      <td>2.0</td>\n",
       "    </tr>\n",
       "  </tbody>\n",
       "</table>\n",
       "</div>"
      ],
      "text/plain": [
       "                                 N      Q                               v0  \\\n",
       "0  [-1.0, 0.0, 0.0, 1.0, 0.0, 0.0]  [2.0]  [0.5, 0.0, 0.0, -0.5, 0.0, 0.0]   \n",
       "\n",
       "                                                Minv ipopt_sol policy_sol  \\\n",
       "0  [[1.0, 0.0, 0.0, 0.0, 0.0, 0.0], [0.0, 1.0, 0....     [1.0]      [1.0]   \n",
       "\n",
       "   ipopt_converged  policy_converged  policy_v2_converged  ipopt_time  \\\n",
       "0             True              True                False           2   \n",
       "\n",
       "   policy_time  policy_v2_time                                       f_name  \\\n",
       "0            0               0  ./../simulaiton_outputs/2_balls_output.json   \n",
       "\n",
       "     b  \n",
       "0  2.0  "
      ]
     },
     "execution_count": 6,
     "metadata": {},
     "output_type": "execute_result"
    }
   ],
   "source": [
    "collision_data = read_file_to_pd_dataframe('./../simulaiton_outputs/2_balls_output.json')\n",
    "collision_data"
   ]
  }
 ],
 "metadata": {
  "kernelspec": {
   "display_name": "Python 3",
   "language": "python",
   "name": "python3"
  },
  "language_info": {
   "codemirror_mode": {
    "name": "ipython",
    "version": 3
   },
   "file_extension": ".py",
   "mimetype": "text/x-python",
   "name": "python",
   "nbconvert_exporter": "python",
   "pygments_lexer": "ipython3",
   "version": "3.10.12"
  }
 },
 "nbformat": 4,
 "nbformat_minor": 2
}
